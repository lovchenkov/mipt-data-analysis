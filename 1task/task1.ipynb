{
 "cells": [
  {
   "cell_type": "markdown",
   "metadata": {},
   "source": [
    "# <a href=\"https://miptstats.github.io/courses/ad_fivt.html\">Введение в анализ данных</a>\n",
    "## Домашнее задание 1. Простой анализ данных."
   ]
  },
  {
   "cell_type": "markdown",
   "source": [
    "**Правила, <font color=\"red\">прочитайте внимательно</font>:**\n",
    "\n",
    "\n",
    "* Дедлайн см. в боте. После дедлайна работы не принимаются кроме случаев наличия уважительной причины. Правила переноса дедлайнов определены в презентации с первого занятия.\n",
    "* Выполнять задание необходимо полностью самостоятельно. **При обнаружении списывания все участники списывания будут сдавать устный зачет.**\n",
    "* Задачи 1 и 2 сдаются в систему Яндекс.Контест. Ссылка на контест в телеграм-боте.\n",
    "\n",
    "\n",
    "**Сдача задачи 3:**\n",
    "\n",
    "* Выполненную работу нужно отправить телеграм-боту `@miptstats_ds24_bot`. Для начала работы с ботом каждый раз отправляйте `/start`. Дождитесь подтверждения от бота, что он принял файл. Если подтверждения нет, то что-то не так. **Работы, присланные иным способом, не принимаются.**\n",
    "* Прислать нужно **ноутбук в формате `ipynb`**.\n",
    "* Телеграм не разрешает боту получать файлы более **20 Мб**. Если ваше решение весит больше, *заранее* разделите ноутбук на несколько.\n",
    "* Для выполнения задания **используйте этот ноутбук в качестве основы, ничего не удаляя из него**. Можно добавлять необходимое количество ячеек.\n",
    "* Комментарии к решению пишите в markdown-ячейках.\n",
    "* Выполнение задания (ход решения, выводы и пр.) должно быть осуществлено на русском языке.\n",
    "* Если код будет не понятен проверяющему, оценка может быть снижена.\n",
    "* Никакой код из данного задания при проверке запускаться не будет. *Если код студента не выполнен, недописан и т.д., то он не оценивается.*\n",
    "* **Код из рассказанных на занятиях ноутбуков** можно использовать без ограничений.\n",
    "\n",
    "**Перед выполнением задания посмотрите презентацию по выполнению и оформлению домашних заданий с занятия 1.**\n",
    "\n",
    "---\n",
    "\n",
    "**Баллы за задание:**\n",
    "\n",
    "<b><font color=\"blue\">Легкая часть</font></b> (достаточно на \"хор\"):\n",
    "* Задача 1 &mdash; 10 баллов\n",
    "* Задача 2 &mdash; 10 баллов\n",
    "* Задача 3 &mdash; 80 баллов\n",
    "\n",
    "\n",
    "Баллы учитываются в <b>обязательной части</b> курса и не влияют на оценку по факультативной части."
   ],
   "metadata": {
    "collapsed": false
   }
  },
  {
   "cell_type": "code",
   "execution_count": 1,
   "metadata": {
    "ExecuteTime": {
     "end_time": "2024-02-17T12:12:23.790450918Z",
     "start_time": "2024-02-17T12:12:23.761783715Z"
    }
   },
   "outputs": [],
   "source": [
    "# Bot check\n",
    "\n",
    "# HW_ID: fpmi_ad1\n",
    "# Бот проверит этот ID и предупредит, если случайно сдать что-то не то\n",
    "\n",
    "# Status: final\n",
    "# Перед отправкой в финальном решении удали \"not\" в строчке выше\n",
    "# Так бот проверит, что ты отправляешь финальную версию, а не промежуточную"
   ]
  },
  {
   "cell_type": "code",
   "execution_count": 2,
   "metadata": {
    "colab": {},
    "colab_type": "code",
    "id": "ht9Xm0EucoAr",
    "ExecuteTime": {
     "end_time": "2024-02-17T12:12:23.811253368Z",
     "start_time": "2024-02-17T12:12:23.778985758Z"
    }
   },
   "outputs": [],
   "source": [
    "import numpy as np\n",
    "import pandas as pd\n",
    "import matplotlib.pyplot as plt\n",
    "import seaborn as sns\n",
    "\n",
    "# sns.set(style='whitegrid', font_scale=1.3, palette='Set2')"
   ]
  },
  {
   "cell_type": "markdown",
   "metadata": {},
   "source": [
    "### <font color=\"blue\"><i>Легкая часть</i></font>\n",
    "\n",
    "### Задача 1.\n",
    "\n",
    "Условие задачи и сдача в системе Яндекс.Контест. Ссылка на контест в телеграм-боте."
   ]
  },
  {
   "cell_type": "markdown",
   "source": [
    "---\n",
    "### Задача 2.\n",
    "\n",
    "Условие задачи и сдача в системе Яндекс.Контест. Ссылка на контест в телеграм-боте."
   ],
   "metadata": {
    "collapsed": false
   }
  },
  {
   "cell_type": "markdown",
   "metadata": {},
   "source": [
    "---\n",
    "### Задача 3."
   ]
  },
  {
   "cell_type": "markdown",
   "metadata": {},
   "source": [
    "Титаник был крупнейшим пассажирским судном в 1912—1913 годах. Во время первого рейса затонул в северной Атлантике, столкнувшись с айсбергом в ночь с 14 на 15 апреля 1912 года, при этом погибло 1502 из 2224 пассажиров и членов экипажа. Данные о пассажирах были собраны в таблицы, которые можно скачать с <a href=\"https://www.kaggle.com/c/titanic/data\" target=\"_blank\">Kaggle</a>. Эти данные часто используются в качестве обучающих в анализе данных."
   ]
  },
  {
   "cell_type": "markdown",
   "metadata": {},
   "source": [
    "На дополнительном занятии 10 февраля будет показан простой пример работы с датасетом Титаник. Сейчас ваша задача &mdash; на основе простого анализа предоставленных данных обучить несколько классификаторов для определения выживших, иначе говоря, получить некоторые приближенные правила определения, выжил пассажир или нет, а также сравнить эти правила по качеству приближения.\n",
    "\n",
    "#### 1. Подготовка данных\n",
    "\n",
    "Загрузите данные с помощью `pandas`."
   ]
  },
  {
   "cell_type": "code",
   "execution_count": 3,
   "metadata": {
    "ExecuteTime": {
     "end_time": "2024-02-17T12:12:23.848178242Z",
     "start_time": "2024-02-17T12:12:23.780458657Z"
    }
   },
   "outputs": [
    {
     "data": {
      "text/plain": "             Survived  Pclass  \\\nPassengerId                     \n1                   0       3   \n2                   1       1   \n3                   1       3   \n4                   1       1   \n5                   0       3   \n6                   0       3   \n7                   0       1   \n8                   0       3   \n9                   1       3   \n10                  1       2   \n\n                                                          Name     Sex   Age  \\\nPassengerId                                                                    \n1                                      Braund, Mr. Owen Harris    male  22.0   \n2            Cumings, Mrs. John Bradley (Florence Briggs Th...  female  38.0   \n3                                       Heikkinen, Miss. Laina  female  26.0   \n4                 Futrelle, Mrs. Jacques Heath (Lily May Peel)  female  35.0   \n5                                     Allen, Mr. William Henry    male  35.0   \n6                                             Moran, Mr. James    male   NaN   \n7                                      McCarthy, Mr. Timothy J    male  54.0   \n8                               Palsson, Master. Gosta Leonard    male   2.0   \n9            Johnson, Mrs. Oscar W (Elisabeth Vilhelmina Berg)  female  27.0   \n10                         Nasser, Mrs. Nicholas (Adele Achem)  female  14.0   \n\n             SibSp  Parch            Ticket     Fare Cabin Embarked  \nPassengerId                                                          \n1                1      0         A/5 21171   7.2500   NaN        S  \n2                1      0          PC 17599  71.2833   C85        C  \n3                0      0  STON/O2. 3101282   7.9250   NaN        S  \n4                1      0            113803  53.1000  C123        S  \n5                0      0            373450   8.0500   NaN        S  \n6                0      0            330877   8.4583   NaN        Q  \n7                0      0             17463  51.8625   E46        S  \n8                3      1            349909  21.0750   NaN        S  \n9                0      2            347742  11.1333   NaN        S  \n10               1      0            237736  30.0708   NaN        C  ",
      "text/html": "<div>\n<style scoped>\n    .dataframe tbody tr th:only-of-type {\n        vertical-align: middle;\n    }\n\n    .dataframe tbody tr th {\n        vertical-align: top;\n    }\n\n    .dataframe thead th {\n        text-align: right;\n    }\n</style>\n<table border=\"1\" class=\"dataframe\">\n  <thead>\n    <tr style=\"text-align: right;\">\n      <th></th>\n      <th>Survived</th>\n      <th>Pclass</th>\n      <th>Name</th>\n      <th>Sex</th>\n      <th>Age</th>\n      <th>SibSp</th>\n      <th>Parch</th>\n      <th>Ticket</th>\n      <th>Fare</th>\n      <th>Cabin</th>\n      <th>Embarked</th>\n    </tr>\n    <tr>\n      <th>PassengerId</th>\n      <th></th>\n      <th></th>\n      <th></th>\n      <th></th>\n      <th></th>\n      <th></th>\n      <th></th>\n      <th></th>\n      <th></th>\n      <th></th>\n      <th></th>\n    </tr>\n  </thead>\n  <tbody>\n    <tr>\n      <th>1</th>\n      <td>0</td>\n      <td>3</td>\n      <td>Braund, Mr. Owen Harris</td>\n      <td>male</td>\n      <td>22.0</td>\n      <td>1</td>\n      <td>0</td>\n      <td>A/5 21171</td>\n      <td>7.2500</td>\n      <td>NaN</td>\n      <td>S</td>\n    </tr>\n    <tr>\n      <th>2</th>\n      <td>1</td>\n      <td>1</td>\n      <td>Cumings, Mrs. John Bradley (Florence Briggs Th...</td>\n      <td>female</td>\n      <td>38.0</td>\n      <td>1</td>\n      <td>0</td>\n      <td>PC 17599</td>\n      <td>71.2833</td>\n      <td>C85</td>\n      <td>C</td>\n    </tr>\n    <tr>\n      <th>3</th>\n      <td>1</td>\n      <td>3</td>\n      <td>Heikkinen, Miss. Laina</td>\n      <td>female</td>\n      <td>26.0</td>\n      <td>0</td>\n      <td>0</td>\n      <td>STON/O2. 3101282</td>\n      <td>7.9250</td>\n      <td>NaN</td>\n      <td>S</td>\n    </tr>\n    <tr>\n      <th>4</th>\n      <td>1</td>\n      <td>1</td>\n      <td>Futrelle, Mrs. Jacques Heath (Lily May Peel)</td>\n      <td>female</td>\n      <td>35.0</td>\n      <td>1</td>\n      <td>0</td>\n      <td>113803</td>\n      <td>53.1000</td>\n      <td>C123</td>\n      <td>S</td>\n    </tr>\n    <tr>\n      <th>5</th>\n      <td>0</td>\n      <td>3</td>\n      <td>Allen, Mr. William Henry</td>\n      <td>male</td>\n      <td>35.0</td>\n      <td>0</td>\n      <td>0</td>\n      <td>373450</td>\n      <td>8.0500</td>\n      <td>NaN</td>\n      <td>S</td>\n    </tr>\n    <tr>\n      <th>6</th>\n      <td>0</td>\n      <td>3</td>\n      <td>Moran, Mr. James</td>\n      <td>male</td>\n      <td>NaN</td>\n      <td>0</td>\n      <td>0</td>\n      <td>330877</td>\n      <td>8.4583</td>\n      <td>NaN</td>\n      <td>Q</td>\n    </tr>\n    <tr>\n      <th>7</th>\n      <td>0</td>\n      <td>1</td>\n      <td>McCarthy, Mr. Timothy J</td>\n      <td>male</td>\n      <td>54.0</td>\n      <td>0</td>\n      <td>0</td>\n      <td>17463</td>\n      <td>51.8625</td>\n      <td>E46</td>\n      <td>S</td>\n    </tr>\n    <tr>\n      <th>8</th>\n      <td>0</td>\n      <td>3</td>\n      <td>Palsson, Master. Gosta Leonard</td>\n      <td>male</td>\n      <td>2.0</td>\n      <td>3</td>\n      <td>1</td>\n      <td>349909</td>\n      <td>21.0750</td>\n      <td>NaN</td>\n      <td>S</td>\n    </tr>\n    <tr>\n      <th>9</th>\n      <td>1</td>\n      <td>3</td>\n      <td>Johnson, Mrs. Oscar W (Elisabeth Vilhelmina Berg)</td>\n      <td>female</td>\n      <td>27.0</td>\n      <td>0</td>\n      <td>2</td>\n      <td>347742</td>\n      <td>11.1333</td>\n      <td>NaN</td>\n      <td>S</td>\n    </tr>\n    <tr>\n      <th>10</th>\n      <td>1</td>\n      <td>2</td>\n      <td>Nasser, Mrs. Nicholas (Adele Achem)</td>\n      <td>female</td>\n      <td>14.0</td>\n      <td>1</td>\n      <td>0</td>\n      <td>237736</td>\n      <td>30.0708</td>\n      <td>NaN</td>\n      <td>C</td>\n    </tr>\n  </tbody>\n</table>\n</div>"
     },
     "execution_count": 3,
     "metadata": {},
     "output_type": "execute_result"
    }
   ],
   "source": [
    "data = pd.read_csv('train.csv', index_col=0)\n",
    "data.head(10)"
   ]
  },
  {
   "cell_type": "markdown",
   "metadata": {},
   "source": [
    "Разделите данные по строкам на две части случайным образом в соотношении 7:3. Первую часть мы будем называть *обучающей*, а вторую &mdash; *тестовой*."
   ]
  },
  {
   "cell_type": "code",
   "execution_count": 4,
   "metadata": {
    "collapsed": false,
    "ExecuteTime": {
     "end_time": "2024-02-17T12:12:23.966894010Z",
     "start_time": "2024-02-17T12:12:23.798571081Z"
    }
   },
   "outputs": [],
   "source": [
    "# Сразу заменим Nan на среднее в нужных колонках\n",
    "# По итогу без этого точность лучше, так что не используем\n",
    "def nan_to_mean(df, col):\n",
    "    mean = df[col].mean(skipna = True)\n",
    "    print(col, mean)\n",
    "    df[col].fillna(mean, inplace = True)"
   ]
  },
  {
   "cell_type": "code",
   "outputs": [],
   "source": [
    "# for col in ['Pclass', 'Age', 'SibSp', 'Parch', 'Fare']:\n",
    "#     nan_to_mean(data, col)"
   ],
   "metadata": {
    "collapsed": false,
    "ExecuteTime": {
     "end_time": "2024-02-17T12:12:24.003765985Z",
     "start_time": "2024-02-17T12:12:23.809013017Z"
    }
   },
   "execution_count": 5
  },
  {
   "cell_type": "code",
   "outputs": [
    {
     "name": "stderr",
     "output_type": "stream",
     "text": [
      "/home/lefm/.local/lib/python3.10/site-packages/numpy/core/fromnumeric.py:59: FutureWarning: 'DataFrame.swapaxes' is deprecated and will be removed in a future version. Please use 'DataFrame.transpose' instead.\n",
      "  return bound(*args, **kwds)\n"
     ]
    },
    {
     "data": {
      "text/plain": "             Survived  Pclass                                    Name     Sex  \\\nPassengerId                                                                     \n345                 0       2                 Fox, Mr. Stanley Hubert    male   \n307                 1       1                 Fleming, Miss. Margaret  female   \n693                 1       3                            Lam, Mr. Ali    male   \n247                 0       3   Lindahl, Miss. Agda Thorilda Viktoria  female   \n198                 0       3        Olsen, Mr. Karl Siegwart Andreas    male   \n...               ...     ...                                     ...     ...   \n804                 1       3         Thomas, Master. Assad Alexander    male   \n797                 1       1             Leader, Dr. Alice (Farnham)  female   \n440                 0       2  Kvillner, Mr. Johan Henrik Johannesson    male   \n794                 0       1                Hoyt, Mr. William Fisher    male   \n690                 1       1       Madill, Miss. Georgette Alexandra  female   \n\n               Age  SibSp  Parch      Ticket      Fare Cabin Embarked  \nPassengerId                                                            \n345          36.00      0      0      229236   13.0000   NaN        S  \n307            NaN      0      0       17421  110.8833   NaN        C  \n693            NaN      0      0        1601   56.4958   NaN        S  \n247          25.00      0      0      347071    7.7750   NaN        S  \n198          42.00      0      1        4579    8.4042   NaN        S  \n...            ...    ...    ...         ...       ...   ...      ...  \n804           0.42      0      1        2625    8.5167   NaN        C  \n797          49.00      0      0       17465   25.9292   D17        S  \n440          31.00      0      0  C.A. 18723   10.5000   NaN        S  \n794            NaN      0      0    PC 17600   30.6958   NaN        C  \n690          15.00      0      1       24160  211.3375    B5        S  \n\n[623 rows x 11 columns]",
      "text/html": "<div>\n<style scoped>\n    .dataframe tbody tr th:only-of-type {\n        vertical-align: middle;\n    }\n\n    .dataframe tbody tr th {\n        vertical-align: top;\n    }\n\n    .dataframe thead th {\n        text-align: right;\n    }\n</style>\n<table border=\"1\" class=\"dataframe\">\n  <thead>\n    <tr style=\"text-align: right;\">\n      <th></th>\n      <th>Survived</th>\n      <th>Pclass</th>\n      <th>Name</th>\n      <th>Sex</th>\n      <th>Age</th>\n      <th>SibSp</th>\n      <th>Parch</th>\n      <th>Ticket</th>\n      <th>Fare</th>\n      <th>Cabin</th>\n      <th>Embarked</th>\n    </tr>\n    <tr>\n      <th>PassengerId</th>\n      <th></th>\n      <th></th>\n      <th></th>\n      <th></th>\n      <th></th>\n      <th></th>\n      <th></th>\n      <th></th>\n      <th></th>\n      <th></th>\n      <th></th>\n    </tr>\n  </thead>\n  <tbody>\n    <tr>\n      <th>345</th>\n      <td>0</td>\n      <td>2</td>\n      <td>Fox, Mr. Stanley Hubert</td>\n      <td>male</td>\n      <td>36.00</td>\n      <td>0</td>\n      <td>0</td>\n      <td>229236</td>\n      <td>13.0000</td>\n      <td>NaN</td>\n      <td>S</td>\n    </tr>\n    <tr>\n      <th>307</th>\n      <td>1</td>\n      <td>1</td>\n      <td>Fleming, Miss. Margaret</td>\n      <td>female</td>\n      <td>NaN</td>\n      <td>0</td>\n      <td>0</td>\n      <td>17421</td>\n      <td>110.8833</td>\n      <td>NaN</td>\n      <td>C</td>\n    </tr>\n    <tr>\n      <th>693</th>\n      <td>1</td>\n      <td>3</td>\n      <td>Lam, Mr. Ali</td>\n      <td>male</td>\n      <td>NaN</td>\n      <td>0</td>\n      <td>0</td>\n      <td>1601</td>\n      <td>56.4958</td>\n      <td>NaN</td>\n      <td>S</td>\n    </tr>\n    <tr>\n      <th>247</th>\n      <td>0</td>\n      <td>3</td>\n      <td>Lindahl, Miss. Agda Thorilda Viktoria</td>\n      <td>female</td>\n      <td>25.00</td>\n      <td>0</td>\n      <td>0</td>\n      <td>347071</td>\n      <td>7.7750</td>\n      <td>NaN</td>\n      <td>S</td>\n    </tr>\n    <tr>\n      <th>198</th>\n      <td>0</td>\n      <td>3</td>\n      <td>Olsen, Mr. Karl Siegwart Andreas</td>\n      <td>male</td>\n      <td>42.00</td>\n      <td>0</td>\n      <td>1</td>\n      <td>4579</td>\n      <td>8.4042</td>\n      <td>NaN</td>\n      <td>S</td>\n    </tr>\n    <tr>\n      <th>...</th>\n      <td>...</td>\n      <td>...</td>\n      <td>...</td>\n      <td>...</td>\n      <td>...</td>\n      <td>...</td>\n      <td>...</td>\n      <td>...</td>\n      <td>...</td>\n      <td>...</td>\n      <td>...</td>\n    </tr>\n    <tr>\n      <th>804</th>\n      <td>1</td>\n      <td>3</td>\n      <td>Thomas, Master. Assad Alexander</td>\n      <td>male</td>\n      <td>0.42</td>\n      <td>0</td>\n      <td>1</td>\n      <td>2625</td>\n      <td>8.5167</td>\n      <td>NaN</td>\n      <td>C</td>\n    </tr>\n    <tr>\n      <th>797</th>\n      <td>1</td>\n      <td>1</td>\n      <td>Leader, Dr. Alice (Farnham)</td>\n      <td>female</td>\n      <td>49.00</td>\n      <td>0</td>\n      <td>0</td>\n      <td>17465</td>\n      <td>25.9292</td>\n      <td>D17</td>\n      <td>S</td>\n    </tr>\n    <tr>\n      <th>440</th>\n      <td>0</td>\n      <td>2</td>\n      <td>Kvillner, Mr. Johan Henrik Johannesson</td>\n      <td>male</td>\n      <td>31.00</td>\n      <td>0</td>\n      <td>0</td>\n      <td>C.A. 18723</td>\n      <td>10.5000</td>\n      <td>NaN</td>\n      <td>S</td>\n    </tr>\n    <tr>\n      <th>794</th>\n      <td>0</td>\n      <td>1</td>\n      <td>Hoyt, Mr. William Fisher</td>\n      <td>male</td>\n      <td>NaN</td>\n      <td>0</td>\n      <td>0</td>\n      <td>PC 17600</td>\n      <td>30.6958</td>\n      <td>NaN</td>\n      <td>C</td>\n    </tr>\n    <tr>\n      <th>690</th>\n      <td>1</td>\n      <td>1</td>\n      <td>Madill, Miss. Georgette Alexandra</td>\n      <td>female</td>\n      <td>15.00</td>\n      <td>0</td>\n      <td>1</td>\n      <td>24160</td>\n      <td>211.3375</td>\n      <td>B5</td>\n      <td>S</td>\n    </tr>\n  </tbody>\n</table>\n<p>623 rows × 11 columns</p>\n</div>"
     },
     "execution_count": 6,
     "metadata": {},
     "output_type": "execute_result"
    }
   ],
   "source": [
    "data = data.sample(frac=1)\n",
    "train, test = np.split(data, [int(.7 * len(data))])\n",
    "train"
   ],
   "metadata": {
    "ExecuteTime": {
     "end_time": "2024-02-17T12:12:24.052271986Z",
     "start_time": "2024-02-17T12:12:23.824517299Z"
    }
   },
   "execution_count": 6
  },
  {
   "cell_type": "markdown",
   "metadata": {},
   "source": [
    "Из каждой части оставим несколько признаков, с которыми мы будем работать, а также отдельно &mdash; целевой признак. Примените к обеим частям таблицы функцию ниже"
   ]
  },
  {
   "cell_type": "code",
   "execution_count": 7,
   "metadata": {
    "ExecuteTime": {
     "end_time": "2024-02-17T12:12:24.068474551Z",
     "start_time": "2024-02-17T12:12:23.860409963Z"
    }
   },
   "outputs": [],
   "source": [
    "features_columns = ['Pclass', 'Sex', 'Age', 'SibSp', 'Parch', 'Fare']\n",
    "target_column = 'Survived'  # Целевой признак\n",
    "\n",
    "def get_features_and_target(data):\n",
    "    features = data[features_columns]\n",
    "    target = data[target_column]\n",
    "    return features, target"
   ]
  },
  {
   "cell_type": "code",
   "outputs": [
    {
     "data": {
      "text/plain": "(             Pclass     Sex   Age  SibSp  Parch      Fare\n PassengerId                                              \n 345               2    male  36.0      0      0   13.0000\n 307               1  female   NaN      0      0  110.8833\n 693               3    male   NaN      0      0   56.4958\n 247               3  female  25.0      0      0    7.7750\n 198               3    male  42.0      0      1    8.4042,\n PassengerId\n 345    0\n 307    1\n 693    1\n 247    0\n 198    0\n Name: Survived, dtype: int64)"
     },
     "execution_count": 8,
     "metadata": {},
     "output_type": "execute_result"
    }
   ],
   "source": [
    "train_features, train_target = get_features_and_target(train)\n",
    "test_features, test_target = get_features_and_target(test)\n",
    "\n",
    "train_features.head(), train_target.head()"
   ],
   "metadata": {
    "ExecuteTime": {
     "end_time": "2024-02-17T12:12:24.197021888Z",
     "start_time": "2024-02-17T12:12:23.884317690Z"
    }
   },
   "execution_count": 8
  },
  {
   "cell_type": "markdown",
   "metadata": {},
   "source": [
    "#### 2. Исследование\n",
    "\n",
    "**Внимание.** Эта часть задачи должна выполняться *исключительно на обучающих данных*. За использование тестовых данных решение не будет оценено.\n",
    "\n",
    "Проведите визуальный анализ данных чтобы понять, как различные признаки влияют на целевой. Исследовать можно не целиком обучающие данные, а разделить их на две части по одному из признаков, а далее рассматривать каждую часть отдельно. \n",
    "\n",
    "*Не забывайте про информативность и эстетичность графиков.*"
   ]
  },
  {
   "cell_type": "code",
   "execution_count": 9,
   "metadata": {
    "collapsed": false,
    "ExecuteTime": {
     "end_time": "2024-02-17T12:12:24.315753456Z",
     "start_time": "2024-02-17T12:12:23.902295311Z"
    }
   },
   "outputs": [
    {
     "data": {
      "text/plain": "<Figure size 640x480 with 0 Axes>"
     },
     "metadata": {},
     "output_type": "display_data"
    }
   ],
   "source": [
    "fig = plt.figure()"
   ]
  },
  {
   "cell_type": "code",
   "outputs": [
    {
     "data": {
      "text/plain": "[Text(0.5, 0, 'Age'), Text(0, 0.5, 'Survived / Died Count')]"
     },
     "execution_count": 10,
     "metadata": {},
     "output_type": "execute_result"
    },
    {
     "data": {
      "text/plain": "<Figure size 640x480 with 1 Axes>",
      "image/png": "[encoded data removed]"
     },
     "metadata": {},
     "output_type": "display_data"
    }
   ],
   "source": [
    "# Зависимость выживаемости от возраста\n",
    "age_hist = sns.histplot(train_features, x = 'Age', hue = train_target, multiple = 'stack', legend = False)\n",
    "age_hist.set(xlabel = 'Age', ylabel = 'Survived / Died Count')"
   ],
   "metadata": {
    "collapsed": false,
    "ExecuteTime": {
     "end_time": "2024-02-17T12:12:25.329888593Z",
     "start_time": "2024-02-17T12:12:23.925613269Z"
    }
   },
   "execution_count": 10
  },
  {
   "cell_type": "code",
   "outputs": [
    {
     "data": {
      "text/plain": "[Text(0.5, 0, \"Ticket's class\"),\n Text(0, 0.5, 'Survived / Died Count'),\n [<matplotlib.axis.XTick at 0x7f3a99a61930>,\n  <matplotlib.axis.XTick at 0x7f3a99a61900>,\n  <matplotlib.axis.XTick at 0x7f3a99a876d0>]]"
     },
     "execution_count": 11,
     "metadata": {},
     "output_type": "execute_result"
    },
    {
     "data": {
      "text/plain": "<Figure size 640x480 with 1 Axes>",
      "image/png": "[encoded data removed]"
     },
     "metadata": {},
     "output_type": "display_data"
    }
   ],
   "source": [
    "# Зависимость выживаемости от класса пассажира\n",
    "p_class_hist = sns.histplot(train_features, x = 'Pclass',\n",
    "                            hue = train_target, multiple = 'stack', bins = [1, 2 ,3, 4],\n",
    "                            legend = False, discrete = True, pthresh = 0.6)\n",
    "p_class_hist.set(xlabel = 'Ticket\\'s class', ylabel = 'Survived / Died Count', xticks = [1, 2, 3])\n"
   ],
   "metadata": {
    "collapsed": false,
    "ExecuteTime": {
     "end_time": "2024-02-17T12:12:25.546111866Z",
     "start_time": "2024-02-17T12:12:24.519420458Z"
    }
   },
   "execution_count": 11
  },
  {
   "cell_type": "code",
   "outputs": [
    {
     "data": {
      "text/plain": "[Text(0.5, 0, 'Sex'), Text(0, 0.5, 'Survived / Died Count')]"
     },
     "execution_count": 12,
     "metadata": {},
     "output_type": "execute_result"
    },
    {
     "data": {
      "text/plain": "<Figure size 640x480 with 1 Axes>",
      "image/png": "[encoded data removed]"
     },
     "metadata": {},
     "output_type": "display_data"
    }
   ],
   "source": [
    "# Зависимость выживаемости от пола\n",
    "sex_hist = sns.histplot(train_features, x = 'Sex',\n",
    "                            hue = train_target, multiple = 'stack',\n",
    "                            legend = False, pthresh = 0.6)\n",
    "sex_hist.set(xlabel = 'Sex', ylabel = 'Survived / Died Count')"
   ],
   "metadata": {
    "collapsed": false,
    "ExecuteTime": {
     "end_time": "2024-02-17T12:12:25.891409366Z",
     "start_time": "2024-02-17T12:12:24.995060501Z"
    }
   },
   "execution_count": 12
  },
  {
   "cell_type": "code",
   "outputs": [
    {
     "data": {
      "text/plain": "[Text(0.5, 0, 'Sibling and Spouses Count'),\n Text(0, 0.5, 'Survived / Died Count')]"
     },
     "execution_count": 13,
     "metadata": {},
     "output_type": "execute_result"
    },
    {
     "data": {
      "text/plain": "<Figure size 640x480 with 1 Axes>",
      "image/png": "[encoded data removed]"
     },
     "metadata": {},
     "output_type": "display_data"
    }
   ],
   "source": [
    "# Зависимость выживаемости от количества сиблингов и партнеров на борту\n",
    "\n",
    "sib_cnt_hist = sns.histplot(train_features, x = 'SibSp',\n",
    "                            hue = train_target, multiple = 'stack',\n",
    "                            legend = False, pthresh = 0.6, stat = 'percent')\n",
    "sib_cnt_hist.set(xlabel = 'Sibling and Spouses Count', ylabel = 'Survived / Died Count')"
   ],
   "metadata": {
    "collapsed": false,
    "ExecuteTime": {
     "end_time": "2024-02-17T12:12:26.418514302Z",
     "start_time": "2024-02-17T12:12:25.544177009Z"
    }
   },
   "execution_count": 13
  },
  {
   "cell_type": "code",
   "outputs": [
    {
     "data": {
      "text/plain": "[Text(0.5, 0, 'Parch Count'), Text(0, 0.5, 'Survived / Died Count')]"
     },
     "execution_count": 14,
     "metadata": {},
     "output_type": "execute_result"
    },
    {
     "data": {
      "text/plain": "<Figure size 640x480 with 1 Axes>",
      "image/png": "[encoded data removed]"
     },
     "metadata": {},
     "output_type": "display_data"
    }
   ],
   "source": [
    "# Зависимость выживаемости от количества родителей/детей на борту\n",
    "\n",
    "sib_cnt_hist = sns.histplot(train_features, x = 'Parch',\n",
    "                            hue = train_target, multiple = 'stack',\n",
    "                            legend = False, pthresh = 0.6, stat = 'percent')\n",
    "sib_cnt_hist.set(xlabel = 'Parch Count', ylabel = 'Survived / Died Count')"
   ],
   "metadata": {
    "collapsed": false,
    "ExecuteTime": {
     "end_time": "2024-02-17T12:12:27.444056479Z",
     "start_time": "2024-02-17T12:12:26.422996717Z"
    }
   },
   "execution_count": 14
  },
  {
   "cell_type": "code",
   "outputs": [
    {
     "data": {
      "text/plain": "[Text(0.5, 0, 'Fare'), Text(0, 0.5, 'Survived / Died Count'), (0.0, 130.0)]"
     },
     "execution_count": 15,
     "metadata": {},
     "output_type": "execute_result"
    },
    {
     "data": {
      "text/plain": "<Figure size 640x480 with 1 Axes>",
      "image/png": "[encoded data removed]"
     },
     "metadata": {},
     "output_type": "display_data"
    }
   ],
   "source": [
    "# Зависимость выживаемости от стоимости билета, ограничено сверху ценой в 130 для большей наглядности.\n",
    "age_hist = sns.histplot(train_features, x = 'Fare', hue = train_target, multiple = 'stack', legend = False)\n",
    "age_hist.set(xlabel = 'Fare', ylabel = 'Survived / Died Count', xlim = (0, 130))"
   ],
   "metadata": {
    "ExecuteTime": {
     "end_time": "2024-02-17T12:12:28.627464289Z",
     "start_time": "2024-02-17T12:12:27.449009117Z"
    }
   },
   "execution_count": 15
  },
  {
   "cell_type": "markdown",
   "metadata": {},
   "source": [
    "#### 3. Классификация методом ближайшего соседа\n",
    "\n",
    "Ранее в контесте вы уже реализовали функцию поиска ближайших соседей. Теперь давайте применим ее для решения нашей текущей задачи. \n",
    "\n",
    "Реализуйте функцию, которая для каждого объекта тестового набора данных найдет $k$ ближайших соседей из обучающего набора данных, и в качестве ответа возьмет наиболее часто встречающееся значение целевого признака среди найденных соседей. Обратите внимание, что соседей необходимо искать только среди объектов обучающего набора данных."
   ]
  },
  {
   "cell_type": "code",
   "outputs": [],
   "source": [
    "def find_nearest_points(a: np.ndarray, b: np.ndarray, k: int) -> np.ndarray:\n",
    "    d = ((b[:, :, np.newaxis] - a.T[np.newaxis, :, :]) ** 2).sum(axis=1)\n",
    "    return (np.argsort(d) + 1)[:, 0 : k]"
   ],
   "metadata": {
    "collapsed": false,
    "ExecuteTime": {
     "end_time": "2024-02-17T12:12:28.740480083Z",
     "start_time": "2024-02-17T12:12:28.619205586Z"
    }
   },
   "execution_count": 16
  },
  {
   "cell_type": "code",
   "outputs": [],
   "source": [
    "def knn(features, train_features, train_target, k=1):\n",
    "    '''\n",
    "    Предсказание целевого признака для данных features -- pandas-таблица данных.\n",
    "    на основе обучающего набора данных train_features, train_target.\n",
    "    Возвращает pandas.Series с теми же индексами, что и у features.\n",
    "    Число k -- количество соседей.\n",
    "    '''    \n",
    "    # Насчитываем k ближайших соседей\n",
    "    k_nearest_neighs = find_nearest_points(train_features.to_numpy(), features.to_numpy(), k)\n",
    "    nearest_target = []\n",
    "    \n",
    "    # Идем по ближайшим  соседям каждой точки из features,\n",
    "    # находим самое частое и его целевой признак кладем в nearest_target\n",
    "    for i in range(len(k_nearest_neighs)):\n",
    "        cur_knn_target = [train_target.iloc[index - 1] for index in k_nearest_neighs[i]]\n",
    "        nearest_target.append(max(set(cur_knn_target), key = cur_knn_target.count))\n",
    "    \n",
    "    predicted = pd.Series(nearest_target, index = features.index)\n",
    "    return predicted"
   ],
   "metadata": {
    "ExecuteTime": {
     "end_time": "2024-02-17T12:12:28.744040575Z",
     "start_time": "2024-02-17T12:12:28.663723481Z"
    }
   },
   "execution_count": 17
  },
  {
   "cell_type": "markdown",
   "metadata": {},
   "source": [
    "Постройте классификатор методом ближайшего соседа, используя только признаки `Age` и `Fare`. \n",
    "\n",
    "Какую метрику (функцию расстояния) вы при этом используете? Нужно ли предварительно что-то сделать с признаками?"
   ]
  },
  {
   "cell_type": "markdown",
   "source": [
    "Тк age_max_val ~= 80, fare_max_val ~= 500,\n",
    "То хорошо бы нормировать эти признаки, чтобы они\n",
    "вносили примерно равный вклад в \"минимизацию расстояния\"\n",
    "Метрика -- евклидово расстояние в кубе [0,1]^k"
   ],
   "metadata": {
    "collapsed": false
   }
  },
  {
   "cell_type": "code",
   "outputs": [],
   "source": [
    "def normalize(df):\n",
    "    for column in df.columns:\n",
    "        min_val = min(list(df[column]))\n",
    "        max_val = max(list(df[column]))\n",
    "        df.loc[column] = pd.Series([(x - min_val) / max_val for x in df[column]], index = df.index)"
   ],
   "metadata": {
    "collapsed": false,
    "ExecuteTime": {
     "end_time": "2024-02-17T12:12:28.765540987Z",
     "start_time": "2024-02-17T12:12:28.664536770Z"
    }
   },
   "execution_count": 18
  },
  {
   "cell_type": "code",
   "outputs": [],
   "source": [
    "def knn_only_age_and_fare(features, train_features, train_target, k=1):\n",
    "    cut_features = features[['Age', 'Fare']]\n",
    "    cut_train_features = train_features[['Age', 'Fare']]\n",
    "    normalize(cut_features)\n",
    "    normalize(cut_train_features)\n",
    "    return knn(cut_features, cut_train_features, train_target, k)\n"
   ],
   "metadata": {
    "ExecuteTime": {
     "end_time": "2024-02-17T12:12:28.782989273Z",
     "start_time": "2024-02-17T12:12:28.665390995Z"
    }
   },
   "execution_count": 19
  },
  {
   "cell_type": "markdown",
   "metadata": {},
   "source": [
    "Как меняется результат классификации при другом количестве соседей? Рассмотрите хотя бы три различных нечетных значения количества соседей."
   ]
  },
  {
   "cell_type": "code",
   "execution_count": 20,
   "metadata": {
    "ExecuteTime": {
     "end_time": "2024-02-17T12:12:29.003092999Z",
     "start_time": "2024-02-17T12:12:28.707092718Z"
    }
   },
   "outputs": [
    {
     "name": "stderr",
     "output_type": "stream",
     "text": [
      "/tmp/ipykernel_10977/3684083270.py:5: SettingWithCopyWarning: \n",
      "A value is trying to be set on a copy of a slice from a DataFrame\n",
      "\n",
      "See the caveats in the documentation: https://pandas.pydata.org/pandas-docs/stable/user_guide/indexing.html#returning-a-view-versus-a-copy\n",
      "  df.loc[column] = pd.Series([(x - min_val) / max_val for x in df[column]], index = df.index)\n",
      "/tmp/ipykernel_10977/3684083270.py:5: SettingWithCopyWarning: \n",
      "A value is trying to be set on a copy of a slice from a DataFrame\n",
      "\n",
      "See the caveats in the documentation: https://pandas.pydata.org/pandas-docs/stable/user_guide/indexing.html#returning-a-view-versus-a-copy\n",
      "  df.loc[column] = pd.Series([(x - min_val) / max_val for x in df[column]], index = df.index)\n",
      "/tmp/ipykernel_10977/3684083270.py:5: SettingWithCopyWarning: \n",
      "A value is trying to be set on a copy of a slice from a DataFrame\n",
      "\n",
      "See the caveats in the documentation: https://pandas.pydata.org/pandas-docs/stable/user_guide/indexing.html#returning-a-view-versus-a-copy\n",
      "  df.loc[column] = pd.Series([(x - min_val) / max_val for x in df[column]], index = df.index)\n",
      "/tmp/ipykernel_10977/3684083270.py:5: SettingWithCopyWarning: \n",
      "A value is trying to be set on a copy of a slice from a DataFrame\n",
      "\n",
      "See the caveats in the documentation: https://pandas.pydata.org/pandas-docs/stable/user_guide/indexing.html#returning-a-view-versus-a-copy\n",
      "  df.loc[column] = pd.Series([(x - min_val) / max_val for x in df[column]], index = df.index)\n",
      "/tmp/ipykernel_10977/3684083270.py:5: SettingWithCopyWarning: \n",
      "A value is trying to be set on a copy of a slice from a DataFrame\n",
      "\n",
      "See the caveats in the documentation: https://pandas.pydata.org/pandas-docs/stable/user_guide/indexing.html#returning-a-view-versus-a-copy\n",
      "  df.loc[column] = pd.Series([(x - min_val) / max_val for x in df[column]], index = df.index)\n",
      "/tmp/ipykernel_10977/3684083270.py:5: SettingWithCopyWarning: \n",
      "A value is trying to be set on a copy of a slice from a DataFrame\n",
      "\n",
      "See the caveats in the documentation: https://pandas.pydata.org/pandas-docs/stable/user_guide/indexing.html#returning-a-view-versus-a-copy\n",
      "  df.loc[column] = pd.Series([(x - min_val) / max_val for x in df[column]], index = df.index)\n",
      "/tmp/ipykernel_10977/3684083270.py:5: SettingWithCopyWarning: \n",
      "A value is trying to be set on a copy of a slice from a DataFrame\n",
      "\n",
      "See the caveats in the documentation: https://pandas.pydata.org/pandas-docs/stable/user_guide/indexing.html#returning-a-view-versus-a-copy\n",
      "  df.loc[column] = pd.Series([(x - min_val) / max_val for x in df[column]], index = df.index)\n",
      "/tmp/ipykernel_10977/3684083270.py:5: SettingWithCopyWarning: \n",
      "A value is trying to be set on a copy of a slice from a DataFrame\n",
      "\n",
      "See the caveats in the documentation: https://pandas.pydata.org/pandas-docs/stable/user_guide/indexing.html#returning-a-view-versus-a-copy\n",
      "  df.loc[column] = pd.Series([(x - min_val) / max_val for x in df[column]], index = df.index)\n",
      "/tmp/ipykernel_10977/3684083270.py:5: SettingWithCopyWarning: \n",
      "A value is trying to be set on a copy of a slice from a DataFrame\n",
      "\n",
      "See the caveats in the documentation: https://pandas.pydata.org/pandas-docs/stable/user_guide/indexing.html#returning-a-view-versus-a-copy\n",
      "  df.loc[column] = pd.Series([(x - min_val) / max_val for x in df[column]], index = df.index)\n",
      "/tmp/ipykernel_10977/3684083270.py:5: SettingWithCopyWarning: \n",
      "A value is trying to be set on a copy of a slice from a DataFrame\n",
      "\n",
      "See the caveats in the documentation: https://pandas.pydata.org/pandas-docs/stable/user_guide/indexing.html#returning-a-view-versus-a-copy\n",
      "  df.loc[column] = pd.Series([(x - min_val) / max_val for x in df[column]], index = df.index)\n",
      "/tmp/ipykernel_10977/3684083270.py:5: SettingWithCopyWarning: \n",
      "A value is trying to be set on a copy of a slice from a DataFrame\n",
      "\n",
      "See the caveats in the documentation: https://pandas.pydata.org/pandas-docs/stable/user_guide/indexing.html#returning-a-view-versus-a-copy\n",
      "  df.loc[column] = pd.Series([(x - min_val) / max_val for x in df[column]], index = df.index)\n",
      "/tmp/ipykernel_10977/3684083270.py:5: SettingWithCopyWarning: \n",
      "A value is trying to be set on a copy of a slice from a DataFrame\n",
      "\n",
      "See the caveats in the documentation: https://pandas.pydata.org/pandas-docs/stable/user_guide/indexing.html#returning-a-view-versus-a-copy\n",
      "  df.loc[column] = pd.Series([(x - min_val) / max_val for x in df[column]], index = df.index)\n",
      "/tmp/ipykernel_10977/3684083270.py:5: SettingWithCopyWarning: \n",
      "A value is trying to be set on a copy of a slice from a DataFrame\n",
      "\n",
      "See the caveats in the documentation: https://pandas.pydata.org/pandas-docs/stable/user_guide/indexing.html#returning-a-view-versus-a-copy\n",
      "  df.loc[column] = pd.Series([(x - min_val) / max_val for x in df[column]], index = df.index)\n",
      "/tmp/ipykernel_10977/3684083270.py:5: SettingWithCopyWarning: \n",
      "A value is trying to be set on a copy of a slice from a DataFrame\n",
      "\n",
      "See the caveats in the documentation: https://pandas.pydata.org/pandas-docs/stable/user_guide/indexing.html#returning-a-view-versus-a-copy\n",
      "  df.loc[column] = pd.Series([(x - min_val) / max_val for x in df[column]], index = df.index)\n",
      "/tmp/ipykernel_10977/3684083270.py:5: SettingWithCopyWarning: \n",
      "A value is trying to be set on a copy of a slice from a DataFrame\n",
      "\n",
      "See the caveats in the documentation: https://pandas.pydata.org/pandas-docs/stable/user_guide/indexing.html#returning-a-view-versus-a-copy\n",
      "  df.loc[column] = pd.Series([(x - min_val) / max_val for x in df[column]], index = df.index)\n",
      "/tmp/ipykernel_10977/3684083270.py:5: SettingWithCopyWarning: \n",
      "A value is trying to be set on a copy of a slice from a DataFrame\n",
      "\n",
      "See the caveats in the documentation: https://pandas.pydata.org/pandas-docs/stable/user_guide/indexing.html#returning-a-view-versus-a-copy\n",
      "  df.loc[column] = pd.Series([(x - min_val) / max_val for x in df[column]], index = df.index)\n",
      "/tmp/ipykernel_10977/3684083270.py:5: SettingWithCopyWarning: \n",
      "A value is trying to be set on a copy of a slice from a DataFrame\n",
      "\n",
      "See the caveats in the documentation: https://pandas.pydata.org/pandas-docs/stable/user_guide/indexing.html#returning-a-view-versus-a-copy\n",
      "  df.loc[column] = pd.Series([(x - min_val) / max_val for x in df[column]], index = df.index)\n",
      "/tmp/ipykernel_10977/3684083270.py:5: SettingWithCopyWarning: \n",
      "A value is trying to be set on a copy of a slice from a DataFrame\n",
      "\n",
      "See the caveats in the documentation: https://pandas.pydata.org/pandas-docs/stable/user_guide/indexing.html#returning-a-view-versus-a-copy\n",
      "  df.loc[column] = pd.Series([(x - min_val) / max_val for x in df[column]], index = df.index)\n",
      "/tmp/ipykernel_10977/3684083270.py:5: SettingWithCopyWarning: \n",
      "A value is trying to be set on a copy of a slice from a DataFrame\n",
      "\n",
      "See the caveats in the documentation: https://pandas.pydata.org/pandas-docs/stable/user_guide/indexing.html#returning-a-view-versus-a-copy\n",
      "  df.loc[column] = pd.Series([(x - min_val) / max_val for x in df[column]], index = df.index)\n",
      "/tmp/ipykernel_10977/3684083270.py:5: SettingWithCopyWarning: \n",
      "A value is trying to be set on a copy of a slice from a DataFrame\n",
      "\n",
      "See the caveats in the documentation: https://pandas.pydata.org/pandas-docs/stable/user_guide/indexing.html#returning-a-view-versus-a-copy\n",
      "  df.loc[column] = pd.Series([(x - min_val) / max_val for x in df[column]], index = df.index)\n"
     ]
    },
    {
     "name": "stdout",
     "output_type": "stream",
     "text": [
      "k = 1 : accuracy = 0.6592592592592592\n",
      "k = 3 : accuracy = 0.6370370370370371\n",
      "k = 5 : accuracy = 0.6592592592592592\n",
      "k = 7 : accuracy = 0.6703703703703704\n",
      "k = 9 : accuracy = 0.674074074074074\n"
     ]
    }
   ],
   "source": [
    "for k in [1, 3, 5, 7, 9]:\n",
    "    predicted = knn_only_age_and_fare(test_features, train_features, train_target, k)\n",
    "    accuracy = 0.0\n",
    "    for index in test_target.index:\n",
    "        accuracy += (predicted[index] == test_target[index])\n",
    "    accuracy /= len(predicted)\n",
    "    print('k =', k, ': accuracy =', accuracy)"
   ]
  },
  {
   "cell_type": "markdown",
   "metadata": {},
   "source": [
    "Как можно было бы учесть другие признаки? Какие при этом могут возникнуть проблемы? \n",
    "\n",
    "Строить классификатор с другими признаками при этом не нужно.\n",
    "\n",
    "Так как все признаки числовые(пол можно считать bool), то их тоже можно было бы отнормировать и учитывать при поиске соседей.\n",
    "Ясно, что у разных признаков разный \"вклад\" в выживаемость, а в обычном евклидовом расстоянии с нормировкой все признаки равнозначны.\n",
    "\n"
   ]
  },
  {
   "cell_type": "markdown",
   "metadata": {},
   "source": [
    "#### 4. Классификация логическими правилами\n",
    "\n",
    "На основе выше проведенного исследования предложите два разных правила в виде решающего дерева, пример которого можете посмотреть в презентации с первой лекции (классификация котиков). Никакие статистические методы использовать не требуется, только логику и графики.\n",
    "\n",
    "В данной задаче достаточно, если первое дерево будет иметь максимальную глубину 2, а второе &mdash; глубину 1, и при этом не является поддеревом первого. *Примечание*: дерево из одного листа имеет глубину 0.\n",
    "\n",
    "**Дерево 1:**\n",
    "\n",
    " Если класс -- третий, то умер, иначе смотрим на количество родителей/детей -- больше или не больше 0.\n",
    "\n",
    "**Дерево 2:**\n",
    "\n",
    "Судя по графикам -- большинство женщин выжило, а большинство мужчин погибло.\n",
    "\n",
    "Реализуйте полученные деревья по шаблону"
   ]
  },
  {
   "cell_type": "code",
   "execution_count": 21,
   "metadata": {
    "collapsed": false,
    "ExecuteTime": {
     "end_time": "2024-02-17T12:12:29.023017129Z",
     "start_time": "2024-02-17T12:12:28.930900576Z"
    }
   },
   "outputs": [],
   "source": [
    "def tree1(features):\n",
    "    '''\n",
    "    Предсказание целевого признака для данных features -- pandas-таблица данных.\n",
    "    Возвращает pandas.Series с теми же индексами, что и у features.\n",
    "    '''\n",
    "    pclass = features['Pclass'].apply(lambda pclass: pclass != 3)\n",
    "    parch = features['Parch'].apply(lambda parch: parch > 0)\n",
    "    predicted = pclass & parch    \n",
    "    return predicted"
   ]
  },
  {
   "cell_type": "code",
   "outputs": [],
   "source": [
    "def tree2(features):\n",
    "    '''\n",
    "    Предсказание целевого признака для данных features -- pandas-таблица данных.\n",
    "    Возвращает pandas.Series с теми же индексами, что и у features.\n",
    "    '''\n",
    "    predicted = features['Sex'].apply(lambda sex: int(sex == 'female'))\n",
    "    return predicted\n"
   ],
   "metadata": {
    "ExecuteTime": {
     "end_time": "2024-02-17T12:12:29.184600750Z",
     "start_time": "2024-02-17T12:12:28.946741040Z"
    }
   },
   "execution_count": 22
  },
  {
   "cell_type": "markdown",
   "metadata": {},
   "source": [
    "#### 5. Качество\n",
    "\n",
    "Вспомним, что у нас имеется тестовая часть выборки. Самое время ее использовать для того, чтобы оценить, насколько хорошими получились деревья. Предложите какой-нибудь критерий качества.\n",
    "\n",
    "*Замечание*. Не стоит пытаться искать, какие критерии существуют. В данном случае легко предложить адекватный критерий. Стандартные критерии мы разберем позже, но для начала лучше подумать самостоятельно.\n",
    "\n",
    "**Критерий:**\n",
    "\n",
    "...\n",
    "\n",
    "Реализуйте данный критерий по шаблону"
   ]
  },
  {
   "cell_type": "code",
   "execution_count": 23,
   "metadata": {
    "ExecuteTime": {
     "end_time": "2024-02-17T12:12:29.213816354Z",
     "start_time": "2024-02-17T12:12:28.954968314Z"
    }
   },
   "outputs": [],
   "source": [
    "def criteria(target, predicted):\n",
    "    '''\n",
    "    Вычисление критерия качества для предсказания predicted, \n",
    "    если истинные значения -- target.\n",
    "    Возвращает одно вещественное число.\n",
    "    '''\n",
    "    accuracy = 0.0\n",
    "    for index in target.index:\n",
    "        accuracy += (predicted[index] == target[index])\n",
    "    accuracy /= len(predicted)\n",
    "    return  accuracy"
   ]
  },
  {
   "cell_type": "markdown",
   "metadata": {},
   "source": [
    "Оцените качество построенных ранее моделей (два дерева, kNN), используя предложенный критерий.\n",
    "\n",
    "*Примечание.* Полученные значения не влияют на оценку по задание. Оценивается только корректность и обоснованность решения, а также графики и выводы."
   ]
  },
  {
   "cell_type": "code",
   "execution_count": 24,
   "metadata": {
    "ExecuteTime": {
     "end_time": "2024-02-17T12:12:29.239037039Z",
     "start_time": "2024-02-17T12:12:28.970413154Z"
    }
   },
   "outputs": [
    {
     "name": "stdout",
     "output_type": "stream",
     "text": [
      "KNN: 0.6703703703703704\n",
      "Tree 1: 0.667910447761194\n",
      "Tree 2: 0.7947761194029851\n"
     ]
    },
    {
     "name": "stderr",
     "output_type": "stream",
     "text": [
      "/tmp/ipykernel_10977/3684083270.py:5: SettingWithCopyWarning: \n",
      "A value is trying to be set on a copy of a slice from a DataFrame\n",
      "\n",
      "See the caveats in the documentation: https://pandas.pydata.org/pandas-docs/stable/user_guide/indexing.html#returning-a-view-versus-a-copy\n",
      "  df.loc[column] = pd.Series([(x - min_val) / max_val for x in df[column]], index = df.index)\n",
      "/tmp/ipykernel_10977/3684083270.py:5: SettingWithCopyWarning: \n",
      "A value is trying to be set on a copy of a slice from a DataFrame\n",
      "\n",
      "See the caveats in the documentation: https://pandas.pydata.org/pandas-docs/stable/user_guide/indexing.html#returning-a-view-versus-a-copy\n",
      "  df.loc[column] = pd.Series([(x - min_val) / max_val for x in df[column]], index = df.index)\n",
      "/tmp/ipykernel_10977/3684083270.py:5: SettingWithCopyWarning: \n",
      "A value is trying to be set on a copy of a slice from a DataFrame\n",
      "\n",
      "See the caveats in the documentation: https://pandas.pydata.org/pandas-docs/stable/user_guide/indexing.html#returning-a-view-versus-a-copy\n",
      "  df.loc[column] = pd.Series([(x - min_val) / max_val for x in df[column]], index = df.index)\n",
      "/tmp/ipykernel_10977/3684083270.py:5: SettingWithCopyWarning: \n",
      "A value is trying to be set on a copy of a slice from a DataFrame\n",
      "\n",
      "See the caveats in the documentation: https://pandas.pydata.org/pandas-docs/stable/user_guide/indexing.html#returning-a-view-versus-a-copy\n",
      "  df.loc[column] = pd.Series([(x - min_val) / max_val for x in df[column]], index = df.index)\n"
     ]
    }
   ],
   "source": [
    "print(\"KNN:\", criteria(test_target, knn_only_age_and_fare(test_features, train_features, train_target, k = 7)))\n",
    "print(\"Tree 1:\", criteria(test_target, tree1(test_features)))\n",
    "print(\"Tree 2:\", criteria(test_target, tree2(test_features)))\n",
    "\n"
   ]
  },
  {
   "cell_type": "markdown",
   "metadata": {},
   "source": [
    "Посчитайте значение предложенного ранее критерия качества для метода ближайшего соседа для значений $k$ от 1 до 10. Постройте график зависимости критерия качества от $k$. Как вы можете пояснить полученные результаты?"
   ]
  },
  {
   "cell_type": "code",
   "execution_count": 25,
   "metadata": {
    "collapsed": false,
    "ExecuteTime": {
     "end_time": "2024-02-17T12:12:33.736785578Z",
     "start_time": "2024-02-17T12:12:29.067567816Z"
    }
   },
   "outputs": [
    {
     "name": "stderr",
     "output_type": "stream",
     "text": [
      "/tmp/ipykernel_10977/3684083270.py:5: SettingWithCopyWarning: \n",
      "A value is trying to be set on a copy of a slice from a DataFrame\n",
      "\n",
      "See the caveats in the documentation: https://pandas.pydata.org/pandas-docs/stable/user_guide/indexing.html#returning-a-view-versus-a-copy\n",
      "  df.loc[column] = pd.Series([(x - min_val) / max_val for x in df[column]], index = df.index)\n",
      "/tmp/ipykernel_10977/3684083270.py:5: SettingWithCopyWarning: \n",
      "A value is trying to be set on a copy of a slice from a DataFrame\n",
      "\n",
      "See the caveats in the documentation: https://pandas.pydata.org/pandas-docs/stable/user_guide/indexing.html#returning-a-view-versus-a-copy\n",
      "  df.loc[column] = pd.Series([(x - min_val) / max_val for x in df[column]], index = df.index)\n",
      "/tmp/ipykernel_10977/3684083270.py:5: SettingWithCopyWarning: \n",
      "A value is trying to be set on a copy of a slice from a DataFrame\n",
      "\n",
      "See the caveats in the documentation: https://pandas.pydata.org/pandas-docs/stable/user_guide/indexing.html#returning-a-view-versus-a-copy\n",
      "  df.loc[column] = pd.Series([(x - min_val) / max_val for x in df[column]], index = df.index)\n",
      "/tmp/ipykernel_10977/3684083270.py:5: SettingWithCopyWarning: \n",
      "A value is trying to be set on a copy of a slice from a DataFrame\n",
      "\n",
      "See the caveats in the documentation: https://pandas.pydata.org/pandas-docs/stable/user_guide/indexing.html#returning-a-view-versus-a-copy\n",
      "  df.loc[column] = pd.Series([(x - min_val) / max_val for x in df[column]], index = df.index)\n",
      "/tmp/ipykernel_10977/3684083270.py:5: SettingWithCopyWarning: \n",
      "A value is trying to be set on a copy of a slice from a DataFrame\n",
      "\n",
      "See the caveats in the documentation: https://pandas.pydata.org/pandas-docs/stable/user_guide/indexing.html#returning-a-view-versus-a-copy\n",
      "  df.loc[column] = pd.Series([(x - min_val) / max_val for x in df[column]], index = df.index)\n",
      "/tmp/ipykernel_10977/3684083270.py:5: SettingWithCopyWarning: \n",
      "A value is trying to be set on a copy of a slice from a DataFrame\n",
      "\n",
      "See the caveats in the documentation: https://pandas.pydata.org/pandas-docs/stable/user_guide/indexing.html#returning-a-view-versus-a-copy\n",
      "  df.loc[column] = pd.Series([(x - min_val) / max_val for x in df[column]], index = df.index)\n",
      "/tmp/ipykernel_10977/3684083270.py:5: SettingWithCopyWarning: \n",
      "A value is trying to be set on a copy of a slice from a DataFrame\n",
      "\n",
      "See the caveats in the documentation: https://pandas.pydata.org/pandas-docs/stable/user_guide/indexing.html#returning-a-view-versus-a-copy\n",
      "  df.loc[column] = pd.Series([(x - min_val) / max_val for x in df[column]], index = df.index)\n",
      "/tmp/ipykernel_10977/3684083270.py:5: SettingWithCopyWarning: \n",
      "A value is trying to be set on a copy of a slice from a DataFrame\n",
      "\n",
      "See the caveats in the documentation: https://pandas.pydata.org/pandas-docs/stable/user_guide/indexing.html#returning-a-view-versus-a-copy\n",
      "  df.loc[column] = pd.Series([(x - min_val) / max_val for x in df[column]], index = df.index)\n",
      "/tmp/ipykernel_10977/3684083270.py:5: SettingWithCopyWarning: \n",
      "A value is trying to be set on a copy of a slice from a DataFrame\n",
      "\n",
      "See the caveats in the documentation: https://pandas.pydata.org/pandas-docs/stable/user_guide/indexing.html#returning-a-view-versus-a-copy\n",
      "  df.loc[column] = pd.Series([(x - min_val) / max_val for x in df[column]], index = df.index)\n",
      "/tmp/ipykernel_10977/3684083270.py:5: SettingWithCopyWarning: \n",
      "A value is trying to be set on a copy of a slice from a DataFrame\n",
      "\n",
      "See the caveats in the documentation: https://pandas.pydata.org/pandas-docs/stable/user_guide/indexing.html#returning-a-view-versus-a-copy\n",
      "  df.loc[column] = pd.Series([(x - min_val) / max_val for x in df[column]], index = df.index)\n",
      "/tmp/ipykernel_10977/3684083270.py:5: SettingWithCopyWarning: \n",
      "A value is trying to be set on a copy of a slice from a DataFrame\n",
      "\n",
      "See the caveats in the documentation: https://pandas.pydata.org/pandas-docs/stable/user_guide/indexing.html#returning-a-view-versus-a-copy\n",
      "  df.loc[column] = pd.Series([(x - min_val) / max_val for x in df[column]], index = df.index)\n",
      "/tmp/ipykernel_10977/3684083270.py:5: SettingWithCopyWarning: \n",
      "A value is trying to be set on a copy of a slice from a DataFrame\n",
      "\n",
      "See the caveats in the documentation: https://pandas.pydata.org/pandas-docs/stable/user_guide/indexing.html#returning-a-view-versus-a-copy\n",
      "  df.loc[column] = pd.Series([(x - min_val) / max_val for x in df[column]], index = df.index)\n",
      "/tmp/ipykernel_10977/3684083270.py:5: SettingWithCopyWarning: \n",
      "A value is trying to be set on a copy of a slice from a DataFrame\n",
      "\n",
      "See the caveats in the documentation: https://pandas.pydata.org/pandas-docs/stable/user_guide/indexing.html#returning-a-view-versus-a-copy\n",
      "  df.loc[column] = pd.Series([(x - min_val) / max_val for x in df[column]], index = df.index)\n",
      "/tmp/ipykernel_10977/3684083270.py:5: SettingWithCopyWarning: \n",
      "A value is trying to be set on a copy of a slice from a DataFrame\n",
      "\n",
      "See the caveats in the documentation: https://pandas.pydata.org/pandas-docs/stable/user_guide/indexing.html#returning-a-view-versus-a-copy\n",
      "  df.loc[column] = pd.Series([(x - min_val) / max_val for x in df[column]], index = df.index)\n",
      "/tmp/ipykernel_10977/3684083270.py:5: SettingWithCopyWarning: \n",
      "A value is trying to be set on a copy of a slice from a DataFrame\n",
      "\n",
      "See the caveats in the documentation: https://pandas.pydata.org/pandas-docs/stable/user_guide/indexing.html#returning-a-view-versus-a-copy\n",
      "  df.loc[column] = pd.Series([(x - min_val) / max_val for x in df[column]], index = df.index)\n",
      "/tmp/ipykernel_10977/3684083270.py:5: SettingWithCopyWarning: \n",
      "A value is trying to be set on a copy of a slice from a DataFrame\n",
      "\n",
      "See the caveats in the documentation: https://pandas.pydata.org/pandas-docs/stable/user_guide/indexing.html#returning-a-view-versus-a-copy\n",
      "  df.loc[column] = pd.Series([(x - min_val) / max_val for x in df[column]], index = df.index)\n",
      "/tmp/ipykernel_10977/3684083270.py:5: SettingWithCopyWarning: \n",
      "A value is trying to be set on a copy of a slice from a DataFrame\n",
      "\n",
      "See the caveats in the documentation: https://pandas.pydata.org/pandas-docs/stable/user_guide/indexing.html#returning-a-view-versus-a-copy\n",
      "  df.loc[column] = pd.Series([(x - min_val) / max_val for x in df[column]], index = df.index)\n",
      "/tmp/ipykernel_10977/3684083270.py:5: SettingWithCopyWarning: \n",
      "A value is trying to be set on a copy of a slice from a DataFrame\n",
      "\n",
      "See the caveats in the documentation: https://pandas.pydata.org/pandas-docs/stable/user_guide/indexing.html#returning-a-view-versus-a-copy\n",
      "  df.loc[column] = pd.Series([(x - min_val) / max_val for x in df[column]], index = df.index)\n",
      "/tmp/ipykernel_10977/3684083270.py:5: SettingWithCopyWarning: \n",
      "A value is trying to be set on a copy of a slice from a DataFrame\n",
      "\n",
      "See the caveats in the documentation: https://pandas.pydata.org/pandas-docs/stable/user_guide/indexing.html#returning-a-view-versus-a-copy\n",
      "  df.loc[column] = pd.Series([(x - min_val) / max_val for x in df[column]], index = df.index)\n",
      "/tmp/ipykernel_10977/3684083270.py:5: SettingWithCopyWarning: \n",
      "A value is trying to be set on a copy of a slice from a DataFrame\n",
      "\n",
      "See the caveats in the documentation: https://pandas.pydata.org/pandas-docs/stable/user_guide/indexing.html#returning-a-view-versus-a-copy\n",
      "  df.loc[column] = pd.Series([(x - min_val) / max_val for x in df[column]], index = df.index)\n",
      "/tmp/ipykernel_10977/3684083270.py:5: SettingWithCopyWarning: \n",
      "A value is trying to be set on a copy of a slice from a DataFrame\n",
      "\n",
      "See the caveats in the documentation: https://pandas.pydata.org/pandas-docs/stable/user_guide/indexing.html#returning-a-view-versus-a-copy\n",
      "  df.loc[column] = pd.Series([(x - min_val) / max_val for x in df[column]], index = df.index)\n",
      "/tmp/ipykernel_10977/3684083270.py:5: SettingWithCopyWarning: \n",
      "A value is trying to be set on a copy of a slice from a DataFrame\n",
      "\n",
      "See the caveats in the documentation: https://pandas.pydata.org/pandas-docs/stable/user_guide/indexing.html#returning-a-view-versus-a-copy\n",
      "  df.loc[column] = pd.Series([(x - min_val) / max_val for x in df[column]], index = df.index)\n",
      "/tmp/ipykernel_10977/3684083270.py:5: SettingWithCopyWarning: \n",
      "A value is trying to be set on a copy of a slice from a DataFrame\n",
      "\n",
      "See the caveats in the documentation: https://pandas.pydata.org/pandas-docs/stable/user_guide/indexing.html#returning-a-view-versus-a-copy\n",
      "  df.loc[column] = pd.Series([(x - min_val) / max_val for x in df[column]], index = df.index)\n",
      "/tmp/ipykernel_10977/3684083270.py:5: SettingWithCopyWarning: \n",
      "A value is trying to be set on a copy of a slice from a DataFrame\n",
      "\n",
      "See the caveats in the documentation: https://pandas.pydata.org/pandas-docs/stable/user_guide/indexing.html#returning-a-view-versus-a-copy\n",
      "  df.loc[column] = pd.Series([(x - min_val) / max_val for x in df[column]], index = df.index)\n",
      "/tmp/ipykernel_10977/3684083270.py:5: SettingWithCopyWarning: \n",
      "A value is trying to be set on a copy of a slice from a DataFrame\n",
      "\n",
      "See the caveats in the documentation: https://pandas.pydata.org/pandas-docs/stable/user_guide/indexing.html#returning-a-view-versus-a-copy\n",
      "  df.loc[column] = pd.Series([(x - min_val) / max_val for x in df[column]], index = df.index)\n",
      "/tmp/ipykernel_10977/3684083270.py:5: SettingWithCopyWarning: \n",
      "A value is trying to be set on a copy of a slice from a DataFrame\n",
      "\n",
      "See the caveats in the documentation: https://pandas.pydata.org/pandas-docs/stable/user_guide/indexing.html#returning-a-view-versus-a-copy\n",
      "  df.loc[column] = pd.Series([(x - min_val) / max_val for x in df[column]], index = df.index)\n",
      "/tmp/ipykernel_10977/3684083270.py:5: SettingWithCopyWarning: \n",
      "A value is trying to be set on a copy of a slice from a DataFrame\n",
      "\n",
      "See the caveats in the documentation: https://pandas.pydata.org/pandas-docs/stable/user_guide/indexing.html#returning-a-view-versus-a-copy\n",
      "  df.loc[column] = pd.Series([(x - min_val) / max_val for x in df[column]], index = df.index)\n",
      "/tmp/ipykernel_10977/3684083270.py:5: SettingWithCopyWarning: \n",
      "A value is trying to be set on a copy of a slice from a DataFrame\n",
      "\n",
      "See the caveats in the documentation: https://pandas.pydata.org/pandas-docs/stable/user_guide/indexing.html#returning-a-view-versus-a-copy\n",
      "  df.loc[column] = pd.Series([(x - min_val) / max_val for x in df[column]], index = df.index)\n",
      "/tmp/ipykernel_10977/3684083270.py:5: SettingWithCopyWarning: \n",
      "A value is trying to be set on a copy of a slice from a DataFrame\n",
      "\n",
      "See the caveats in the documentation: https://pandas.pydata.org/pandas-docs/stable/user_guide/indexing.html#returning-a-view-versus-a-copy\n",
      "  df.loc[column] = pd.Series([(x - min_val) / max_val for x in df[column]], index = df.index)\n",
      "/tmp/ipykernel_10977/3684083270.py:5: SettingWithCopyWarning: \n",
      "A value is trying to be set on a copy of a slice from a DataFrame\n",
      "\n",
      "See the caveats in the documentation: https://pandas.pydata.org/pandas-docs/stable/user_guide/indexing.html#returning-a-view-versus-a-copy\n",
      "  df.loc[column] = pd.Series([(x - min_val) / max_val for x in df[column]], index = df.index)\n",
      "/tmp/ipykernel_10977/3684083270.py:5: SettingWithCopyWarning: \n",
      "A value is trying to be set on a copy of a slice from a DataFrame\n",
      "\n",
      "See the caveats in the documentation: https://pandas.pydata.org/pandas-docs/stable/user_guide/indexing.html#returning-a-view-versus-a-copy\n",
      "  df.loc[column] = pd.Series([(x - min_val) / max_val for x in df[column]], index = df.index)\n",
      "/tmp/ipykernel_10977/3684083270.py:5: SettingWithCopyWarning: \n",
      "A value is trying to be set on a copy of a slice from a DataFrame\n",
      "\n",
      "See the caveats in the documentation: https://pandas.pydata.org/pandas-docs/stable/user_guide/indexing.html#returning-a-view-versus-a-copy\n",
      "  df.loc[column] = pd.Series([(x - min_val) / max_val for x in df[column]], index = df.index)\n",
      "/tmp/ipykernel_10977/3684083270.py:5: SettingWithCopyWarning: \n",
      "A value is trying to be set on a copy of a slice from a DataFrame\n",
      "\n",
      "See the caveats in the documentation: https://pandas.pydata.org/pandas-docs/stable/user_guide/indexing.html#returning-a-view-versus-a-copy\n",
      "  df.loc[column] = pd.Series([(x - min_val) / max_val for x in df[column]], index = df.index)\n",
      "/tmp/ipykernel_10977/3684083270.py:5: SettingWithCopyWarning: \n",
      "A value is trying to be set on a copy of a slice from a DataFrame\n",
      "\n",
      "See the caveats in the documentation: https://pandas.pydata.org/pandas-docs/stable/user_guide/indexing.html#returning-a-view-versus-a-copy\n",
      "  df.loc[column] = pd.Series([(x - min_val) / max_val for x in df[column]], index = df.index)\n",
      "/tmp/ipykernel_10977/3684083270.py:5: SettingWithCopyWarning: \n",
      "A value is trying to be set on a copy of a slice from a DataFrame\n",
      "\n",
      "See the caveats in the documentation: https://pandas.pydata.org/pandas-docs/stable/user_guide/indexing.html#returning-a-view-versus-a-copy\n",
      "  df.loc[column] = pd.Series([(x - min_val) / max_val for x in df[column]], index = df.index)\n",
      "/tmp/ipykernel_10977/3684083270.py:5: SettingWithCopyWarning: \n",
      "A value is trying to be set on a copy of a slice from a DataFrame\n",
      "\n",
      "See the caveats in the documentation: https://pandas.pydata.org/pandas-docs/stable/user_guide/indexing.html#returning-a-view-versus-a-copy\n",
      "  df.loc[column] = pd.Series([(x - min_val) / max_val for x in df[column]], index = df.index)\n",
      "/tmp/ipykernel_10977/3684083270.py:5: SettingWithCopyWarning: \n",
      "A value is trying to be set on a copy of a slice from a DataFrame\n",
      "\n",
      "See the caveats in the documentation: https://pandas.pydata.org/pandas-docs/stable/user_guide/indexing.html#returning-a-view-versus-a-copy\n",
      "  df.loc[column] = pd.Series([(x - min_val) / max_val for x in df[column]], index = df.index)\n",
      "/tmp/ipykernel_10977/3684083270.py:5: SettingWithCopyWarning: \n",
      "A value is trying to be set on a copy of a slice from a DataFrame\n",
      "\n",
      "See the caveats in the documentation: https://pandas.pydata.org/pandas-docs/stable/user_guide/indexing.html#returning-a-view-versus-a-copy\n",
      "  df.loc[column] = pd.Series([(x - min_val) / max_val for x in df[column]], index = df.index)\n",
      "/tmp/ipykernel_10977/3684083270.py:5: SettingWithCopyWarning: \n",
      "A value is trying to be set on a copy of a slice from a DataFrame\n",
      "\n",
      "See the caveats in the documentation: https://pandas.pydata.org/pandas-docs/stable/user_guide/indexing.html#returning-a-view-versus-a-copy\n",
      "  df.loc[column] = pd.Series([(x - min_val) / max_val for x in df[column]], index = df.index)\n",
      "/tmp/ipykernel_10977/3684083270.py:5: SettingWithCopyWarning: \n",
      "A value is trying to be set on a copy of a slice from a DataFrame\n",
      "\n",
      "See the caveats in the documentation: https://pandas.pydata.org/pandas-docs/stable/user_guide/indexing.html#returning-a-view-versus-a-copy\n",
      "  df.loc[column] = pd.Series([(x - min_val) / max_val for x in df[column]], index = df.index)\n",
      "/tmp/ipykernel_10977/3684083270.py:5: SettingWithCopyWarning: \n",
      "A value is trying to be set on a copy of a slice from a DataFrame\n",
      "\n",
      "See the caveats in the documentation: https://pandas.pydata.org/pandas-docs/stable/user_guide/indexing.html#returning-a-view-versus-a-copy\n",
      "  df.loc[column] = pd.Series([(x - min_val) / max_val for x in df[column]], index = df.index)\n",
      "/tmp/ipykernel_10977/3684083270.py:5: SettingWithCopyWarning: \n",
      "A value is trying to be set on a copy of a slice from a DataFrame\n",
      "\n",
      "See the caveats in the documentation: https://pandas.pydata.org/pandas-docs/stable/user_guide/indexing.html#returning-a-view-versus-a-copy\n",
      "  df.loc[column] = pd.Series([(x - min_val) / max_val for x in df[column]], index = df.index)\n",
      "/tmp/ipykernel_10977/3684083270.py:5: SettingWithCopyWarning: \n",
      "A value is trying to be set on a copy of a slice from a DataFrame\n",
      "\n",
      "See the caveats in the documentation: https://pandas.pydata.org/pandas-docs/stable/user_guide/indexing.html#returning-a-view-versus-a-copy\n",
      "  df.loc[column] = pd.Series([(x - min_val) / max_val for x in df[column]], index = df.index)\n",
      "/tmp/ipykernel_10977/3684083270.py:5: SettingWithCopyWarning: \n",
      "A value is trying to be set on a copy of a slice from a DataFrame\n",
      "\n",
      "See the caveats in the documentation: https://pandas.pydata.org/pandas-docs/stable/user_guide/indexing.html#returning-a-view-versus-a-copy\n",
      "  df.loc[column] = pd.Series([(x - min_val) / max_val for x in df[column]], index = df.index)\n",
      "/tmp/ipykernel_10977/3684083270.py:5: SettingWithCopyWarning: \n",
      "A value is trying to be set on a copy of a slice from a DataFrame\n",
      "\n",
      "See the caveats in the documentation: https://pandas.pydata.org/pandas-docs/stable/user_guide/indexing.html#returning-a-view-versus-a-copy\n",
      "  df.loc[column] = pd.Series([(x - min_val) / max_val for x in df[column]], index = df.index)\n",
      "/tmp/ipykernel_10977/3684083270.py:5: SettingWithCopyWarning: \n",
      "A value is trying to be set on a copy of a slice from a DataFrame\n",
      "\n",
      "See the caveats in the documentation: https://pandas.pydata.org/pandas-docs/stable/user_guide/indexing.html#returning-a-view-versus-a-copy\n",
      "  df.loc[column] = pd.Series([(x - min_val) / max_val for x in df[column]], index = df.index)\n",
      "/tmp/ipykernel_10977/3684083270.py:5: SettingWithCopyWarning: \n",
      "A value is trying to be set on a copy of a slice from a DataFrame\n",
      "\n",
      "See the caveats in the documentation: https://pandas.pydata.org/pandas-docs/stable/user_guide/indexing.html#returning-a-view-versus-a-copy\n",
      "  df.loc[column] = pd.Series([(x - min_val) / max_val for x in df[column]], index = df.index)\n",
      "/tmp/ipykernel_10977/3684083270.py:5: SettingWithCopyWarning: \n",
      "A value is trying to be set on a copy of a slice from a DataFrame\n",
      "\n",
      "See the caveats in the documentation: https://pandas.pydata.org/pandas-docs/stable/user_guide/indexing.html#returning-a-view-versus-a-copy\n",
      "  df.loc[column] = pd.Series([(x - min_val) / max_val for x in df[column]], index = df.index)\n",
      "/tmp/ipykernel_10977/3684083270.py:5: SettingWithCopyWarning: \n",
      "A value is trying to be set on a copy of a slice from a DataFrame\n",
      "\n",
      "See the caveats in the documentation: https://pandas.pydata.org/pandas-docs/stable/user_guide/indexing.html#returning-a-view-versus-a-copy\n",
      "  df.loc[column] = pd.Series([(x - min_val) / max_val for x in df[column]], index = df.index)\n",
      "/tmp/ipykernel_10977/3684083270.py:5: SettingWithCopyWarning: \n",
      "A value is trying to be set on a copy of a slice from a DataFrame\n",
      "\n",
      "See the caveats in the documentation: https://pandas.pydata.org/pandas-docs/stable/user_guide/indexing.html#returning-a-view-versus-a-copy\n",
      "  df.loc[column] = pd.Series([(x - min_val) / max_val for x in df[column]], index = df.index)\n",
      "/tmp/ipykernel_10977/3684083270.py:5: SettingWithCopyWarning: \n",
      "A value is trying to be set on a copy of a slice from a DataFrame\n",
      "\n",
      "See the caveats in the documentation: https://pandas.pydata.org/pandas-docs/stable/user_guide/indexing.html#returning-a-view-versus-a-copy\n",
      "  df.loc[column] = pd.Series([(x - min_val) / max_val for x in df[column]], index = df.index)\n",
      "/tmp/ipykernel_10977/3684083270.py:5: SettingWithCopyWarning: \n",
      "A value is trying to be set on a copy of a slice from a DataFrame\n",
      "\n",
      "See the caveats in the documentation: https://pandas.pydata.org/pandas-docs/stable/user_guide/indexing.html#returning-a-view-versus-a-copy\n",
      "  df.loc[column] = pd.Series([(x - min_val) / max_val for x in df[column]], index = df.index)\n",
      "/tmp/ipykernel_10977/3684083270.py:5: SettingWithCopyWarning: \n",
      "A value is trying to be set on a copy of a slice from a DataFrame\n",
      "\n",
      "See the caveats in the documentation: https://pandas.pydata.org/pandas-docs/stable/user_guide/indexing.html#returning-a-view-versus-a-copy\n",
      "  df.loc[column] = pd.Series([(x - min_val) / max_val for x in df[column]], index = df.index)\n",
      "/tmp/ipykernel_10977/3684083270.py:5: SettingWithCopyWarning: \n",
      "A value is trying to be set on a copy of a slice from a DataFrame\n",
      "\n",
      "See the caveats in the documentation: https://pandas.pydata.org/pandas-docs/stable/user_guide/indexing.html#returning-a-view-versus-a-copy\n",
      "  df.loc[column] = pd.Series([(x - min_val) / max_val for x in df[column]], index = df.index)\n",
      "/tmp/ipykernel_10977/3684083270.py:5: SettingWithCopyWarning: \n",
      "A value is trying to be set on a copy of a slice from a DataFrame\n",
      "\n",
      "See the caveats in the documentation: https://pandas.pydata.org/pandas-docs/stable/user_guide/indexing.html#returning-a-view-versus-a-copy\n",
      "  df.loc[column] = pd.Series([(x - min_val) / max_val for x in df[column]], index = df.index)\n",
      "/tmp/ipykernel_10977/3684083270.py:5: SettingWithCopyWarning: \n",
      "A value is trying to be set on a copy of a slice from a DataFrame\n",
      "\n",
      "See the caveats in the documentation: https://pandas.pydata.org/pandas-docs/stable/user_guide/indexing.html#returning-a-view-versus-a-copy\n",
      "  df.loc[column] = pd.Series([(x - min_val) / max_val for x in df[column]], index = df.index)\n",
      "/tmp/ipykernel_10977/3684083270.py:5: SettingWithCopyWarning: \n",
      "A value is trying to be set on a copy of a slice from a DataFrame\n",
      "\n",
      "See the caveats in the documentation: https://pandas.pydata.org/pandas-docs/stable/user_guide/indexing.html#returning-a-view-versus-a-copy\n",
      "  df.loc[column] = pd.Series([(x - min_val) / max_val for x in df[column]], index = df.index)\n",
      "/tmp/ipykernel_10977/3684083270.py:5: SettingWithCopyWarning: \n",
      "A value is trying to be set on a copy of a slice from a DataFrame\n",
      "\n",
      "See the caveats in the documentation: https://pandas.pydata.org/pandas-docs/stable/user_guide/indexing.html#returning-a-view-versus-a-copy\n",
      "  df.loc[column] = pd.Series([(x - min_val) / max_val for x in df[column]], index = df.index)\n",
      "/tmp/ipykernel_10977/3684083270.py:5: SettingWithCopyWarning: \n",
      "A value is trying to be set on a copy of a slice from a DataFrame\n",
      "\n",
      "See the caveats in the documentation: https://pandas.pydata.org/pandas-docs/stable/user_guide/indexing.html#returning-a-view-versus-a-copy\n",
      "  df.loc[column] = pd.Series([(x - min_val) / max_val for x in df[column]], index = df.index)\n",
      "/tmp/ipykernel_10977/3684083270.py:5: SettingWithCopyWarning: \n",
      "A value is trying to be set on a copy of a slice from a DataFrame\n",
      "\n",
      "See the caveats in the documentation: https://pandas.pydata.org/pandas-docs/stable/user_guide/indexing.html#returning-a-view-versus-a-copy\n",
      "  df.loc[column] = pd.Series([(x - min_val) / max_val for x in df[column]], index = df.index)\n",
      "/tmp/ipykernel_10977/3684083270.py:5: SettingWithCopyWarning: \n",
      "A value is trying to be set on a copy of a slice from a DataFrame\n",
      "\n",
      "See the caveats in the documentation: https://pandas.pydata.org/pandas-docs/stable/user_guide/indexing.html#returning-a-view-versus-a-copy\n",
      "  df.loc[column] = pd.Series([(x - min_val) / max_val for x in df[column]], index = df.index)\n",
      "/tmp/ipykernel_10977/3684083270.py:5: SettingWithCopyWarning: \n",
      "A value is trying to be set on a copy of a slice from a DataFrame\n",
      "\n",
      "See the caveats in the documentation: https://pandas.pydata.org/pandas-docs/stable/user_guide/indexing.html#returning-a-view-versus-a-copy\n",
      "  df.loc[column] = pd.Series([(x - min_val) / max_val for x in df[column]], index = df.index)\n",
      "/tmp/ipykernel_10977/3684083270.py:5: SettingWithCopyWarning: \n",
      "A value is trying to be set on a copy of a slice from a DataFrame\n",
      "\n",
      "See the caveats in the documentation: https://pandas.pydata.org/pandas-docs/stable/user_guide/indexing.html#returning-a-view-versus-a-copy\n",
      "  df.loc[column] = pd.Series([(x - min_val) / max_val for x in df[column]], index = df.index)\n",
      "/tmp/ipykernel_10977/3684083270.py:5: SettingWithCopyWarning: \n",
      "A value is trying to be set on a copy of a slice from a DataFrame\n",
      "\n",
      "See the caveats in the documentation: https://pandas.pydata.org/pandas-docs/stable/user_guide/indexing.html#returning-a-view-versus-a-copy\n",
      "  df.loc[column] = pd.Series([(x - min_val) / max_val for x in df[column]], index = df.index)\n",
      "/tmp/ipykernel_10977/3684083270.py:5: SettingWithCopyWarning: \n",
      "A value is trying to be set on a copy of a slice from a DataFrame\n",
      "\n",
      "See the caveats in the documentation: https://pandas.pydata.org/pandas-docs/stable/user_guide/indexing.html#returning-a-view-versus-a-copy\n",
      "  df.loc[column] = pd.Series([(x - min_val) / max_val for x in df[column]], index = df.index)\n",
      "/tmp/ipykernel_10977/3684083270.py:5: SettingWithCopyWarning: \n",
      "A value is trying to be set on a copy of a slice from a DataFrame\n",
      "\n",
      "See the caveats in the documentation: https://pandas.pydata.org/pandas-docs/stable/user_guide/indexing.html#returning-a-view-versus-a-copy\n",
      "  df.loc[column] = pd.Series([(x - min_val) / max_val for x in df[column]], index = df.index)\n",
      "/tmp/ipykernel_10977/3684083270.py:5: SettingWithCopyWarning: \n",
      "A value is trying to be set on a copy of a slice from a DataFrame\n",
      "\n",
      "See the caveats in the documentation: https://pandas.pydata.org/pandas-docs/stable/user_guide/indexing.html#returning-a-view-versus-a-copy\n",
      "  df.loc[column] = pd.Series([(x - min_val) / max_val for x in df[column]], index = df.index)\n",
      "/tmp/ipykernel_10977/3684083270.py:5: SettingWithCopyWarning: \n",
      "A value is trying to be set on a copy of a slice from a DataFrame\n",
      "\n",
      "See the caveats in the documentation: https://pandas.pydata.org/pandas-docs/stable/user_guide/indexing.html#returning-a-view-versus-a-copy\n",
      "  df.loc[column] = pd.Series([(x - min_val) / max_val for x in df[column]], index = df.index)\n",
      "/tmp/ipykernel_10977/3684083270.py:5: SettingWithCopyWarning: \n",
      "A value is trying to be set on a copy of a slice from a DataFrame\n",
      "\n",
      "See the caveats in the documentation: https://pandas.pydata.org/pandas-docs/stable/user_guide/indexing.html#returning-a-view-versus-a-copy\n",
      "  df.loc[column] = pd.Series([(x - min_val) / max_val for x in df[column]], index = df.index)\n",
      "/tmp/ipykernel_10977/3684083270.py:5: SettingWithCopyWarning: \n",
      "A value is trying to be set on a copy of a slice from a DataFrame\n",
      "\n",
      "See the caveats in the documentation: https://pandas.pydata.org/pandas-docs/stable/user_guide/indexing.html#returning-a-view-versus-a-copy\n",
      "  df.loc[column] = pd.Series([(x - min_val) / max_val for x in df[column]], index = df.index)\n",
      "/tmp/ipykernel_10977/3684083270.py:5: SettingWithCopyWarning: \n",
      "A value is trying to be set on a copy of a slice from a DataFrame\n",
      "\n",
      "See the caveats in the documentation: https://pandas.pydata.org/pandas-docs/stable/user_guide/indexing.html#returning-a-view-versus-a-copy\n",
      "  df.loc[column] = pd.Series([(x - min_val) / max_val for x in df[column]], index = df.index)\n",
      "/tmp/ipykernel_10977/3684083270.py:5: SettingWithCopyWarning: \n",
      "A value is trying to be set on a copy of a slice from a DataFrame\n",
      "\n",
      "See the caveats in the documentation: https://pandas.pydata.org/pandas-docs/stable/user_guide/indexing.html#returning-a-view-versus-a-copy\n",
      "  df.loc[column] = pd.Series([(x - min_val) / max_val for x in df[column]], index = df.index)\n",
      "/tmp/ipykernel_10977/3684083270.py:5: SettingWithCopyWarning: \n",
      "A value is trying to be set on a copy of a slice from a DataFrame\n",
      "\n",
      "See the caveats in the documentation: https://pandas.pydata.org/pandas-docs/stable/user_guide/indexing.html#returning-a-view-versus-a-copy\n",
      "  df.loc[column] = pd.Series([(x - min_val) / max_val for x in df[column]], index = df.index)\n",
      "/tmp/ipykernel_10977/3684083270.py:5: SettingWithCopyWarning: \n",
      "A value is trying to be set on a copy of a slice from a DataFrame\n",
      "\n",
      "See the caveats in the documentation: https://pandas.pydata.org/pandas-docs/stable/user_guide/indexing.html#returning-a-view-versus-a-copy\n",
      "  df.loc[column] = pd.Series([(x - min_val) / max_val for x in df[column]], index = df.index)\n",
      "/tmp/ipykernel_10977/3684083270.py:5: SettingWithCopyWarning: \n",
      "A value is trying to be set on a copy of a slice from a DataFrame\n",
      "\n",
      "See the caveats in the documentation: https://pandas.pydata.org/pandas-docs/stable/user_guide/indexing.html#returning-a-view-versus-a-copy\n",
      "  df.loc[column] = pd.Series([(x - min_val) / max_val for x in df[column]], index = df.index)\n",
      "/tmp/ipykernel_10977/3684083270.py:5: SettingWithCopyWarning: \n",
      "A value is trying to be set on a copy of a slice from a DataFrame\n",
      "\n",
      "See the caveats in the documentation: https://pandas.pydata.org/pandas-docs/stable/user_guide/indexing.html#returning-a-view-versus-a-copy\n",
      "  df.loc[column] = pd.Series([(x - min_val) / max_val for x in df[column]], index = df.index)\n",
      "/tmp/ipykernel_10977/3684083270.py:5: SettingWithCopyWarning: \n",
      "A value is trying to be set on a copy of a slice from a DataFrame\n",
      "\n",
      "See the caveats in the documentation: https://pandas.pydata.org/pandas-docs/stable/user_guide/indexing.html#returning-a-view-versus-a-copy\n",
      "  df.loc[column] = pd.Series([(x - min_val) / max_val for x in df[column]], index = df.index)\n",
      "/tmp/ipykernel_10977/3684083270.py:5: SettingWithCopyWarning: \n",
      "A value is trying to be set on a copy of a slice from a DataFrame\n",
      "\n",
      "See the caveats in the documentation: https://pandas.pydata.org/pandas-docs/stable/user_guide/indexing.html#returning-a-view-versus-a-copy\n",
      "  df.loc[column] = pd.Series([(x - min_val) / max_val for x in df[column]], index = df.index)\n",
      "/tmp/ipykernel_10977/3684083270.py:5: SettingWithCopyWarning: \n",
      "A value is trying to be set on a copy of a slice from a DataFrame\n",
      "\n",
      "See the caveats in the documentation: https://pandas.pydata.org/pandas-docs/stable/user_guide/indexing.html#returning-a-view-versus-a-copy\n",
      "  df.loc[column] = pd.Series([(x - min_val) / max_val for x in df[column]], index = df.index)\n",
      "/tmp/ipykernel_10977/3684083270.py:5: SettingWithCopyWarning: \n",
      "A value is trying to be set on a copy of a slice from a DataFrame\n",
      "\n",
      "See the caveats in the documentation: https://pandas.pydata.org/pandas-docs/stable/user_guide/indexing.html#returning-a-view-versus-a-copy\n",
      "  df.loc[column] = pd.Series([(x - min_val) / max_val for x in df[column]], index = df.index)\n",
      "/tmp/ipykernel_10977/3684083270.py:5: SettingWithCopyWarning: \n",
      "A value is trying to be set on a copy of a slice from a DataFrame\n",
      "\n",
      "See the caveats in the documentation: https://pandas.pydata.org/pandas-docs/stable/user_guide/indexing.html#returning-a-view-versus-a-copy\n",
      "  df.loc[column] = pd.Series([(x - min_val) / max_val for x in df[column]], index = df.index)\n",
      "/tmp/ipykernel_10977/3684083270.py:5: SettingWithCopyWarning: \n",
      "A value is trying to be set on a copy of a slice from a DataFrame\n",
      "\n",
      "See the caveats in the documentation: https://pandas.pydata.org/pandas-docs/stable/user_guide/indexing.html#returning-a-view-versus-a-copy\n",
      "  df.loc[column] = pd.Series([(x - min_val) / max_val for x in df[column]], index = df.index)\n",
      "/tmp/ipykernel_10977/3684083270.py:5: SettingWithCopyWarning: \n",
      "A value is trying to be set on a copy of a slice from a DataFrame\n",
      "\n",
      "See the caveats in the documentation: https://pandas.pydata.org/pandas-docs/stable/user_guide/indexing.html#returning-a-view-versus-a-copy\n",
      "  df.loc[column] = pd.Series([(x - min_val) / max_val for x in df[column]], index = df.index)\n",
      "/tmp/ipykernel_10977/3684083270.py:5: SettingWithCopyWarning: \n",
      "A value is trying to be set on a copy of a slice from a DataFrame\n",
      "\n",
      "See the caveats in the documentation: https://pandas.pydata.org/pandas-docs/stable/user_guide/indexing.html#returning-a-view-versus-a-copy\n",
      "  df.loc[column] = pd.Series([(x - min_val) / max_val for x in df[column]], index = df.index)\n",
      "/tmp/ipykernel_10977/3684083270.py:5: SettingWithCopyWarning: \n",
      "A value is trying to be set on a copy of a slice from a DataFrame\n",
      "\n",
      "See the caveats in the documentation: https://pandas.pydata.org/pandas-docs/stable/user_guide/indexing.html#returning-a-view-versus-a-copy\n",
      "  df.loc[column] = pd.Series([(x - min_val) / max_val for x in df[column]], index = df.index)\n",
      "/tmp/ipykernel_10977/3684083270.py:5: SettingWithCopyWarning: \n",
      "A value is trying to be set on a copy of a slice from a DataFrame\n",
      "\n",
      "See the caveats in the documentation: https://pandas.pydata.org/pandas-docs/stable/user_guide/indexing.html#returning-a-view-versus-a-copy\n",
      "  df.loc[column] = pd.Series([(x - min_val) / max_val for x in df[column]], index = df.index)\n",
      "/tmp/ipykernel_10977/3684083270.py:5: SettingWithCopyWarning: \n",
      "A value is trying to be set on a copy of a slice from a DataFrame\n",
      "\n",
      "See the caveats in the documentation: https://pandas.pydata.org/pandas-docs/stable/user_guide/indexing.html#returning-a-view-versus-a-copy\n",
      "  df.loc[column] = pd.Series([(x - min_val) / max_val for x in df[column]], index = df.index)\n",
      "/tmp/ipykernel_10977/3684083270.py:5: SettingWithCopyWarning: \n",
      "A value is trying to be set on a copy of a slice from a DataFrame\n",
      "\n",
      "See the caveats in the documentation: https://pandas.pydata.org/pandas-docs/stable/user_guide/indexing.html#returning-a-view-versus-a-copy\n",
      "  df.loc[column] = pd.Series([(x - min_val) / max_val for x in df[column]], index = df.index)\n",
      "/tmp/ipykernel_10977/3684083270.py:5: SettingWithCopyWarning: \n",
      "A value is trying to be set on a copy of a slice from a DataFrame\n",
      "\n",
      "See the caveats in the documentation: https://pandas.pydata.org/pandas-docs/stable/user_guide/indexing.html#returning-a-view-versus-a-copy\n",
      "  df.loc[column] = pd.Series([(x - min_val) / max_val for x in df[column]], index = df.index)\n",
      "/tmp/ipykernel_10977/3684083270.py:5: SettingWithCopyWarning: \n",
      "A value is trying to be set on a copy of a slice from a DataFrame\n",
      "\n",
      "See the caveats in the documentation: https://pandas.pydata.org/pandas-docs/stable/user_guide/indexing.html#returning-a-view-versus-a-copy\n",
      "  df.loc[column] = pd.Series([(x - min_val) / max_val for x in df[column]], index = df.index)\n",
      "/tmp/ipykernel_10977/3684083270.py:5: SettingWithCopyWarning: \n",
      "A value is trying to be set on a copy of a slice from a DataFrame\n",
      "\n",
      "See the caveats in the documentation: https://pandas.pydata.org/pandas-docs/stable/user_guide/indexing.html#returning-a-view-versus-a-copy\n",
      "  df.loc[column] = pd.Series([(x - min_val) / max_val for x in df[column]], index = df.index)\n",
      "/tmp/ipykernel_10977/3684083270.py:5: SettingWithCopyWarning: \n",
      "A value is trying to be set on a copy of a slice from a DataFrame\n",
      "\n",
      "See the caveats in the documentation: https://pandas.pydata.org/pandas-docs/stable/user_guide/indexing.html#returning-a-view-versus-a-copy\n",
      "  df.loc[column] = pd.Series([(x - min_val) / max_val for x in df[column]], index = df.index)\n",
      "/tmp/ipykernel_10977/3684083270.py:5: SettingWithCopyWarning: \n",
      "A value is trying to be set on a copy of a slice from a DataFrame\n",
      "\n",
      "See the caveats in the documentation: https://pandas.pydata.org/pandas-docs/stable/user_guide/indexing.html#returning-a-view-versus-a-copy\n",
      "  df.loc[column] = pd.Series([(x - min_val) / max_val for x in df[column]], index = df.index)\n",
      "/tmp/ipykernel_10977/3684083270.py:5: SettingWithCopyWarning: \n",
      "A value is trying to be set on a copy of a slice from a DataFrame\n",
      "\n",
      "See the caveats in the documentation: https://pandas.pydata.org/pandas-docs/stable/user_guide/indexing.html#returning-a-view-versus-a-copy\n",
      "  df.loc[column] = pd.Series([(x - min_val) / max_val for x in df[column]], index = df.index)\n",
      "/tmp/ipykernel_10977/3684083270.py:5: SettingWithCopyWarning: \n",
      "A value is trying to be set on a copy of a slice from a DataFrame\n",
      "\n",
      "See the caveats in the documentation: https://pandas.pydata.org/pandas-docs/stable/user_guide/indexing.html#returning-a-view-versus-a-copy\n",
      "  df.loc[column] = pd.Series([(x - min_val) / max_val for x in df[column]], index = df.index)\n",
      "/tmp/ipykernel_10977/3684083270.py:5: SettingWithCopyWarning: \n",
      "A value is trying to be set on a copy of a slice from a DataFrame\n",
      "\n",
      "See the caveats in the documentation: https://pandas.pydata.org/pandas-docs/stable/user_guide/indexing.html#returning-a-view-versus-a-copy\n",
      "  df.loc[column] = pd.Series([(x - min_val) / max_val for x in df[column]], index = df.index)\n",
      "/tmp/ipykernel_10977/3684083270.py:5: SettingWithCopyWarning: \n",
      "A value is trying to be set on a copy of a slice from a DataFrame\n",
      "\n",
      "See the caveats in the documentation: https://pandas.pydata.org/pandas-docs/stable/user_guide/indexing.html#returning-a-view-versus-a-copy\n",
      "  df.loc[column] = pd.Series([(x - min_val) / max_val for x in df[column]], index = df.index)\n",
      "/tmp/ipykernel_10977/3684083270.py:5: SettingWithCopyWarning: \n",
      "A value is trying to be set on a copy of a slice from a DataFrame\n",
      "\n",
      "See the caveats in the documentation: https://pandas.pydata.org/pandas-docs/stable/user_guide/indexing.html#returning-a-view-versus-a-copy\n",
      "  df.loc[column] = pd.Series([(x - min_val) / max_val for x in df[column]], index = df.index)\n",
      "/tmp/ipykernel_10977/3684083270.py:5: SettingWithCopyWarning: \n",
      "A value is trying to be set on a copy of a slice from a DataFrame\n",
      "\n",
      "See the caveats in the documentation: https://pandas.pydata.org/pandas-docs/stable/user_guide/indexing.html#returning-a-view-versus-a-copy\n",
      "  df.loc[column] = pd.Series([(x - min_val) / max_val for x in df[column]], index = df.index)\n",
      "/tmp/ipykernel_10977/3684083270.py:5: SettingWithCopyWarning: \n",
      "A value is trying to be set on a copy of a slice from a DataFrame\n",
      "\n",
      "See the caveats in the documentation: https://pandas.pydata.org/pandas-docs/stable/user_guide/indexing.html#returning-a-view-versus-a-copy\n",
      "  df.loc[column] = pd.Series([(x - min_val) / max_val for x in df[column]], index = df.index)\n",
      "/tmp/ipykernel_10977/3684083270.py:5: SettingWithCopyWarning: \n",
      "A value is trying to be set on a copy of a slice from a DataFrame\n",
      "\n",
      "See the caveats in the documentation: https://pandas.pydata.org/pandas-docs/stable/user_guide/indexing.html#returning-a-view-versus-a-copy\n",
      "  df.loc[column] = pd.Series([(x - min_val) / max_val for x in df[column]], index = df.index)\n",
      "/tmp/ipykernel_10977/3684083270.py:5: SettingWithCopyWarning: \n",
      "A value is trying to be set on a copy of a slice from a DataFrame\n",
      "\n",
      "See the caveats in the documentation: https://pandas.pydata.org/pandas-docs/stable/user_guide/indexing.html#returning-a-view-versus-a-copy\n",
      "  df.loc[column] = pd.Series([(x - min_val) / max_val for x in df[column]], index = df.index)\n",
      "/tmp/ipykernel_10977/3684083270.py:5: SettingWithCopyWarning: \n",
      "A value is trying to be set on a copy of a slice from a DataFrame\n",
      "\n",
      "See the caveats in the documentation: https://pandas.pydata.org/pandas-docs/stable/user_guide/indexing.html#returning-a-view-versus-a-copy\n",
      "  df.loc[column] = pd.Series([(x - min_val) / max_val for x in df[column]], index = df.index)\n",
      "/tmp/ipykernel_10977/3684083270.py:5: SettingWithCopyWarning: \n",
      "A value is trying to be set on a copy of a slice from a DataFrame\n",
      "\n",
      "See the caveats in the documentation: https://pandas.pydata.org/pandas-docs/stable/user_guide/indexing.html#returning-a-view-versus-a-copy\n",
      "  df.loc[column] = pd.Series([(x - min_val) / max_val for x in df[column]], index = df.index)\n",
      "/tmp/ipykernel_10977/3684083270.py:5: SettingWithCopyWarning: \n",
      "A value is trying to be set on a copy of a slice from a DataFrame\n",
      "\n",
      "See the caveats in the documentation: https://pandas.pydata.org/pandas-docs/stable/user_guide/indexing.html#returning-a-view-versus-a-copy\n",
      "  df.loc[column] = pd.Series([(x - min_val) / max_val for x in df[column]], index = df.index)\n",
      "/tmp/ipykernel_10977/3684083270.py:5: SettingWithCopyWarning: \n",
      "A value is trying to be set on a copy of a slice from a DataFrame\n",
      "\n",
      "See the caveats in the documentation: https://pandas.pydata.org/pandas-docs/stable/user_guide/indexing.html#returning-a-view-versus-a-copy\n",
      "  df.loc[column] = pd.Series([(x - min_val) / max_val for x in df[column]], index = df.index)\n",
      "/tmp/ipykernel_10977/3684083270.py:5: SettingWithCopyWarning: \n",
      "A value is trying to be set on a copy of a slice from a DataFrame\n",
      "\n",
      "See the caveats in the documentation: https://pandas.pydata.org/pandas-docs/stable/user_guide/indexing.html#returning-a-view-versus-a-copy\n",
      "  df.loc[column] = pd.Series([(x - min_val) / max_val for x in df[column]], index = df.index)\n",
      "/tmp/ipykernel_10977/3684083270.py:5: SettingWithCopyWarning: \n",
      "A value is trying to be set on a copy of a slice from a DataFrame\n",
      "\n",
      "See the caveats in the documentation: https://pandas.pydata.org/pandas-docs/stable/user_guide/indexing.html#returning-a-view-versus-a-copy\n",
      "  df.loc[column] = pd.Series([(x - min_val) / max_val for x in df[column]], index = df.index)\n",
      "/tmp/ipykernel_10977/3684083270.py:5: SettingWithCopyWarning: \n",
      "A value is trying to be set on a copy of a slice from a DataFrame\n",
      "\n",
      "See the caveats in the documentation: https://pandas.pydata.org/pandas-docs/stable/user_guide/indexing.html#returning-a-view-versus-a-copy\n",
      "  df.loc[column] = pd.Series([(x - min_val) / max_val for x in df[column]], index = df.index)\n",
      "/tmp/ipykernel_10977/3684083270.py:5: SettingWithCopyWarning: \n",
      "A value is trying to be set on a copy of a slice from a DataFrame\n",
      "\n",
      "See the caveats in the documentation: https://pandas.pydata.org/pandas-docs/stable/user_guide/indexing.html#returning-a-view-versus-a-copy\n",
      "  df.loc[column] = pd.Series([(x - min_val) / max_val for x in df[column]], index = df.index)\n",
      "/tmp/ipykernel_10977/3684083270.py:5: SettingWithCopyWarning: \n",
      "A value is trying to be set on a copy of a slice from a DataFrame\n",
      "\n",
      "See the caveats in the documentation: https://pandas.pydata.org/pandas-docs/stable/user_guide/indexing.html#returning-a-view-versus-a-copy\n",
      "  df.loc[column] = pd.Series([(x - min_val) / max_val for x in df[column]], index = df.index)\n",
      "/tmp/ipykernel_10977/3684083270.py:5: SettingWithCopyWarning: \n",
      "A value is trying to be set on a copy of a slice from a DataFrame\n",
      "\n",
      "See the caveats in the documentation: https://pandas.pydata.org/pandas-docs/stable/user_guide/indexing.html#returning-a-view-versus-a-copy\n",
      "  df.loc[column] = pd.Series([(x - min_val) / max_val for x in df[column]], index = df.index)\n",
      "/tmp/ipykernel_10977/3684083270.py:5: SettingWithCopyWarning: \n",
      "A value is trying to be set on a copy of a slice from a DataFrame\n",
      "\n",
      "See the caveats in the documentation: https://pandas.pydata.org/pandas-docs/stable/user_guide/indexing.html#returning-a-view-versus-a-copy\n",
      "  df.loc[column] = pd.Series([(x - min_val) / max_val for x in df[column]], index = df.index)\n",
      "/tmp/ipykernel_10977/3684083270.py:5: SettingWithCopyWarning: \n",
      "A value is trying to be set on a copy of a slice from a DataFrame\n",
      "\n",
      "See the caveats in the documentation: https://pandas.pydata.org/pandas-docs/stable/user_guide/indexing.html#returning-a-view-versus-a-copy\n",
      "  df.loc[column] = pd.Series([(x - min_val) / max_val for x in df[column]], index = df.index)\n",
      "/tmp/ipykernel_10977/3684083270.py:5: SettingWithCopyWarning: \n",
      "A value is trying to be set on a copy of a slice from a DataFrame\n",
      "\n",
      "See the caveats in the documentation: https://pandas.pydata.org/pandas-docs/stable/user_guide/indexing.html#returning-a-view-versus-a-copy\n",
      "  df.loc[column] = pd.Series([(x - min_val) / max_val for x in df[column]], index = df.index)\n",
      "/tmp/ipykernel_10977/3684083270.py:5: SettingWithCopyWarning: \n",
      "A value is trying to be set on a copy of a slice from a DataFrame\n",
      "\n",
      "See the caveats in the documentation: https://pandas.pydata.org/pandas-docs/stable/user_guide/indexing.html#returning-a-view-versus-a-copy\n",
      "  df.loc[column] = pd.Series([(x - min_val) / max_val for x in df[column]], index = df.index)\n",
      "/tmp/ipykernel_10977/3684083270.py:5: SettingWithCopyWarning: \n",
      "A value is trying to be set on a copy of a slice from a DataFrame\n",
      "\n",
      "See the caveats in the documentation: https://pandas.pydata.org/pandas-docs/stable/user_guide/indexing.html#returning-a-view-versus-a-copy\n",
      "  df.loc[column] = pd.Series([(x - min_val) / max_val for x in df[column]], index = df.index)\n",
      "/tmp/ipykernel_10977/3684083270.py:5: SettingWithCopyWarning: \n",
      "A value is trying to be set on a copy of a slice from a DataFrame\n",
      "\n",
      "See the caveats in the documentation: https://pandas.pydata.org/pandas-docs/stable/user_guide/indexing.html#returning-a-view-versus-a-copy\n",
      "  df.loc[column] = pd.Series([(x - min_val) / max_val for x in df[column]], index = df.index)\n",
      "/tmp/ipykernel_10977/3684083270.py:5: SettingWithCopyWarning: \n",
      "A value is trying to be set on a copy of a slice from a DataFrame\n",
      "\n",
      "See the caveats in the documentation: https://pandas.pydata.org/pandas-docs/stable/user_guide/indexing.html#returning-a-view-versus-a-copy\n",
      "  df.loc[column] = pd.Series([(x - min_val) / max_val for x in df[column]], index = df.index)\n",
      "/tmp/ipykernel_10977/3684083270.py:5: SettingWithCopyWarning: \n",
      "A value is trying to be set on a copy of a slice from a DataFrame\n",
      "\n",
      "See the caveats in the documentation: https://pandas.pydata.org/pandas-docs/stable/user_guide/indexing.html#returning-a-view-versus-a-copy\n",
      "  df.loc[column] = pd.Series([(x - min_val) / max_val for x in df[column]], index = df.index)\n",
      "/tmp/ipykernel_10977/3684083270.py:5: SettingWithCopyWarning: \n",
      "A value is trying to be set on a copy of a slice from a DataFrame\n",
      "\n",
      "See the caveats in the documentation: https://pandas.pydata.org/pandas-docs/stable/user_guide/indexing.html#returning-a-view-versus-a-copy\n",
      "  df.loc[column] = pd.Series([(x - min_val) / max_val for x in df[column]], index = df.index)\n",
      "/tmp/ipykernel_10977/3684083270.py:5: SettingWithCopyWarning: \n",
      "A value is trying to be set on a copy of a slice from a DataFrame\n",
      "\n",
      "See the caveats in the documentation: https://pandas.pydata.org/pandas-docs/stable/user_guide/indexing.html#returning-a-view-versus-a-copy\n",
      "  df.loc[column] = pd.Series([(x - min_val) / max_val for x in df[column]], index = df.index)\n",
      "/tmp/ipykernel_10977/3684083270.py:5: SettingWithCopyWarning: \n",
      "A value is trying to be set on a copy of a slice from a DataFrame\n",
      "\n",
      "See the caveats in the documentation: https://pandas.pydata.org/pandas-docs/stable/user_guide/indexing.html#returning-a-view-versus-a-copy\n",
      "  df.loc[column] = pd.Series([(x - min_val) / max_val for x in df[column]], index = df.index)\n",
      "/tmp/ipykernel_10977/3684083270.py:5: SettingWithCopyWarning: \n",
      "A value is trying to be set on a copy of a slice from a DataFrame\n",
      "\n",
      "See the caveats in the documentation: https://pandas.pydata.org/pandas-docs/stable/user_guide/indexing.html#returning-a-view-versus-a-copy\n",
      "  df.loc[column] = pd.Series([(x - min_val) / max_val for x in df[column]], index = df.index)\n",
      "/tmp/ipykernel_10977/3684083270.py:5: SettingWithCopyWarning: \n",
      "A value is trying to be set on a copy of a slice from a DataFrame\n",
      "\n",
      "See the caveats in the documentation: https://pandas.pydata.org/pandas-docs/stable/user_guide/indexing.html#returning-a-view-versus-a-copy\n",
      "  df.loc[column] = pd.Series([(x - min_val) / max_val for x in df[column]], index = df.index)\n",
      "/tmp/ipykernel_10977/3684083270.py:5: SettingWithCopyWarning: \n",
      "A value is trying to be set on a copy of a slice from a DataFrame\n",
      "\n",
      "See the caveats in the documentation: https://pandas.pydata.org/pandas-docs/stable/user_guide/indexing.html#returning-a-view-versus-a-copy\n",
      "  df.loc[column] = pd.Series([(x - min_val) / max_val for x in df[column]], index = df.index)\n",
      "/tmp/ipykernel_10977/3684083270.py:5: SettingWithCopyWarning: \n",
      "A value is trying to be set on a copy of a slice from a DataFrame\n",
      "\n",
      "See the caveats in the documentation: https://pandas.pydata.org/pandas-docs/stable/user_guide/indexing.html#returning-a-view-versus-a-copy\n",
      "  df.loc[column] = pd.Series([(x - min_val) / max_val for x in df[column]], index = df.index)\n",
      "/tmp/ipykernel_10977/3684083270.py:5: SettingWithCopyWarning: \n",
      "A value is trying to be set on a copy of a slice from a DataFrame\n",
      "\n",
      "See the caveats in the documentation: https://pandas.pydata.org/pandas-docs/stable/user_guide/indexing.html#returning-a-view-versus-a-copy\n",
      "  df.loc[column] = pd.Series([(x - min_val) / max_val for x in df[column]], index = df.index)\n",
      "/tmp/ipykernel_10977/3684083270.py:5: SettingWithCopyWarning: \n",
      "A value is trying to be set on a copy of a slice from a DataFrame\n",
      "\n",
      "See the caveats in the documentation: https://pandas.pydata.org/pandas-docs/stable/user_guide/indexing.html#returning-a-view-versus-a-copy\n",
      "  df.loc[column] = pd.Series([(x - min_val) / max_val for x in df[column]], index = df.index)\n",
      "/tmp/ipykernel_10977/3684083270.py:5: SettingWithCopyWarning: \n",
      "A value is trying to be set on a copy of a slice from a DataFrame\n",
      "\n",
      "See the caveats in the documentation: https://pandas.pydata.org/pandas-docs/stable/user_guide/indexing.html#returning-a-view-versus-a-copy\n",
      "  df.loc[column] = pd.Series([(x - min_val) / max_val for x in df[column]], index = df.index)\n",
      "/tmp/ipykernel_10977/3684083270.py:5: SettingWithCopyWarning: \n",
      "A value is trying to be set on a copy of a slice from a DataFrame\n",
      "\n",
      "See the caveats in the documentation: https://pandas.pydata.org/pandas-docs/stable/user_guide/indexing.html#returning-a-view-versus-a-copy\n",
      "  df.loc[column] = pd.Series([(x - min_val) / max_val for x in df[column]], index = df.index)\n",
      "/tmp/ipykernel_10977/3684083270.py:5: SettingWithCopyWarning: \n",
      "A value is trying to be set on a copy of a slice from a DataFrame\n",
      "\n",
      "See the caveats in the documentation: https://pandas.pydata.org/pandas-docs/stable/user_guide/indexing.html#returning-a-view-versus-a-copy\n",
      "  df.loc[column] = pd.Series([(x - min_val) / max_val for x in df[column]], index = df.index)\n",
      "/tmp/ipykernel_10977/3684083270.py:5: SettingWithCopyWarning: \n",
      "A value is trying to be set on a copy of a slice from a DataFrame\n",
      "\n",
      "See the caveats in the documentation: https://pandas.pydata.org/pandas-docs/stable/user_guide/indexing.html#returning-a-view-versus-a-copy\n",
      "  df.loc[column] = pd.Series([(x - min_val) / max_val for x in df[column]], index = df.index)\n",
      "/tmp/ipykernel_10977/3684083270.py:5: SettingWithCopyWarning: \n",
      "A value is trying to be set on a copy of a slice from a DataFrame\n",
      "\n",
      "See the caveats in the documentation: https://pandas.pydata.org/pandas-docs/stable/user_guide/indexing.html#returning-a-view-versus-a-copy\n",
      "  df.loc[column] = pd.Series([(x - min_val) / max_val for x in df[column]], index = df.index)\n",
      "/tmp/ipykernel_10977/3684083270.py:5: SettingWithCopyWarning: \n",
      "A value is trying to be set on a copy of a slice from a DataFrame\n",
      "\n",
      "See the caveats in the documentation: https://pandas.pydata.org/pandas-docs/stable/user_guide/indexing.html#returning-a-view-versus-a-copy\n",
      "  df.loc[column] = pd.Series([(x - min_val) / max_val for x in df[column]], index = df.index)\n",
      "/tmp/ipykernel_10977/3684083270.py:5: SettingWithCopyWarning: \n",
      "A value is trying to be set on a copy of a slice from a DataFrame\n",
      "\n",
      "See the caveats in the documentation: https://pandas.pydata.org/pandas-docs/stable/user_guide/indexing.html#returning-a-view-versus-a-copy\n",
      "  df.loc[column] = pd.Series([(x - min_val) / max_val for x in df[column]], index = df.index)\n",
      "/tmp/ipykernel_10977/3684083270.py:5: SettingWithCopyWarning: \n",
      "A value is trying to be set on a copy of a slice from a DataFrame\n",
      "\n",
      "See the caveats in the documentation: https://pandas.pydata.org/pandas-docs/stable/user_guide/indexing.html#returning-a-view-versus-a-copy\n",
      "  df.loc[column] = pd.Series([(x - min_val) / max_val for x in df[column]], index = df.index)\n",
      "/tmp/ipykernel_10977/3684083270.py:5: SettingWithCopyWarning: \n",
      "A value is trying to be set on a copy of a slice from a DataFrame\n",
      "\n",
      "See the caveats in the documentation: https://pandas.pydata.org/pandas-docs/stable/user_guide/indexing.html#returning-a-view-versus-a-copy\n",
      "  df.loc[column] = pd.Series([(x - min_val) / max_val for x in df[column]], index = df.index)\n",
      "/tmp/ipykernel_10977/3684083270.py:5: SettingWithCopyWarning: \n",
      "A value is trying to be set on a copy of a slice from a DataFrame\n",
      "\n",
      "See the caveats in the documentation: https://pandas.pydata.org/pandas-docs/stable/user_guide/indexing.html#returning-a-view-versus-a-copy\n",
      "  df.loc[column] = pd.Series([(x - min_val) / max_val for x in df[column]], index = df.index)\n",
      "/tmp/ipykernel_10977/3684083270.py:5: SettingWithCopyWarning: \n",
      "A value is trying to be set on a copy of a slice from a DataFrame\n",
      "\n",
      "See the caveats in the documentation: https://pandas.pydata.org/pandas-docs/stable/user_guide/indexing.html#returning-a-view-versus-a-copy\n",
      "  df.loc[column] = pd.Series([(x - min_val) / max_val for x in df[column]], index = df.index)\n",
      "/tmp/ipykernel_10977/3684083270.py:5: SettingWithCopyWarning: \n",
      "A value is trying to be set on a copy of a slice from a DataFrame\n",
      "\n",
      "See the caveats in the documentation: https://pandas.pydata.org/pandas-docs/stable/user_guide/indexing.html#returning-a-view-versus-a-copy\n",
      "  df.loc[column] = pd.Series([(x - min_val) / max_val for x in df[column]], index = df.index)\n",
      "/tmp/ipykernel_10977/3684083270.py:5: SettingWithCopyWarning: \n",
      "A value is trying to be set on a copy of a slice from a DataFrame\n",
      "\n",
      "See the caveats in the documentation: https://pandas.pydata.org/pandas-docs/stable/user_guide/indexing.html#returning-a-view-versus-a-copy\n",
      "  df.loc[column] = pd.Series([(x - min_val) / max_val for x in df[column]], index = df.index)\n",
      "/tmp/ipykernel_10977/3684083270.py:5: SettingWithCopyWarning: \n",
      "A value is trying to be set on a copy of a slice from a DataFrame\n",
      "\n",
      "See the caveats in the documentation: https://pandas.pydata.org/pandas-docs/stable/user_guide/indexing.html#returning-a-view-versus-a-copy\n",
      "  df.loc[column] = pd.Series([(x - min_val) / max_val for x in df[column]], index = df.index)\n",
      "/tmp/ipykernel_10977/3684083270.py:5: SettingWithCopyWarning: \n",
      "A value is trying to be set on a copy of a slice from a DataFrame\n",
      "\n",
      "See the caveats in the documentation: https://pandas.pydata.org/pandas-docs/stable/user_guide/indexing.html#returning-a-view-versus-a-copy\n",
      "  df.loc[column] = pd.Series([(x - min_val) / max_val for x in df[column]], index = df.index)\n",
      "/tmp/ipykernel_10977/3684083270.py:5: SettingWithCopyWarning: \n",
      "A value is trying to be set on a copy of a slice from a DataFrame\n",
      "\n",
      "See the caveats in the documentation: https://pandas.pydata.org/pandas-docs/stable/user_guide/indexing.html#returning-a-view-versus-a-copy\n",
      "  df.loc[column] = pd.Series([(x - min_val) / max_val for x in df[column]], index = df.index)\n",
      "/tmp/ipykernel_10977/3684083270.py:5: SettingWithCopyWarning: \n",
      "A value is trying to be set on a copy of a slice from a DataFrame\n",
      "\n",
      "See the caveats in the documentation: https://pandas.pydata.org/pandas-docs/stable/user_guide/indexing.html#returning-a-view-versus-a-copy\n",
      "  df.loc[column] = pd.Series([(x - min_val) / max_val for x in df[column]], index = df.index)\n",
      "/tmp/ipykernel_10977/3684083270.py:5: SettingWithCopyWarning: \n",
      "A value is trying to be set on a copy of a slice from a DataFrame\n",
      "\n",
      "See the caveats in the documentation: https://pandas.pydata.org/pandas-docs/stable/user_guide/indexing.html#returning-a-view-versus-a-copy\n",
      "  df.loc[column] = pd.Series([(x - min_val) / max_val for x in df[column]], index = df.index)\n",
      "/tmp/ipykernel_10977/3684083270.py:5: SettingWithCopyWarning: \n",
      "A value is trying to be set on a copy of a slice from a DataFrame\n",
      "\n",
      "See the caveats in the documentation: https://pandas.pydata.org/pandas-docs/stable/user_guide/indexing.html#returning-a-view-versus-a-copy\n",
      "  df.loc[column] = pd.Series([(x - min_val) / max_val for x in df[column]], index = df.index)\n",
      "/tmp/ipykernel_10977/3684083270.py:5: SettingWithCopyWarning: \n",
      "A value is trying to be set on a copy of a slice from a DataFrame\n",
      "\n",
      "See the caveats in the documentation: https://pandas.pydata.org/pandas-docs/stable/user_guide/indexing.html#returning-a-view-versus-a-copy\n",
      "  df.loc[column] = pd.Series([(x - min_val) / max_val for x in df[column]], index = df.index)\n",
      "/tmp/ipykernel_10977/3684083270.py:5: SettingWithCopyWarning: \n",
      "A value is trying to be set on a copy of a slice from a DataFrame\n",
      "\n",
      "See the caveats in the documentation: https://pandas.pydata.org/pandas-docs/stable/user_guide/indexing.html#returning-a-view-versus-a-copy\n",
      "  df.loc[column] = pd.Series([(x - min_val) / max_val for x in df[column]], index = df.index)\n",
      "/tmp/ipykernel_10977/3684083270.py:5: SettingWithCopyWarning: \n",
      "A value is trying to be set on a copy of a slice from a DataFrame\n",
      "\n",
      "See the caveats in the documentation: https://pandas.pydata.org/pandas-docs/stable/user_guide/indexing.html#returning-a-view-versus-a-copy\n",
      "  df.loc[column] = pd.Series([(x - min_val) / max_val for x in df[column]], index = df.index)\n",
      "/tmp/ipykernel_10977/3684083270.py:5: SettingWithCopyWarning: \n",
      "A value is trying to be set on a copy of a slice from a DataFrame\n",
      "\n",
      "See the caveats in the documentation: https://pandas.pydata.org/pandas-docs/stable/user_guide/indexing.html#returning-a-view-versus-a-copy\n",
      "  df.loc[column] = pd.Series([(x - min_val) / max_val for x in df[column]], index = df.index)\n",
      "/tmp/ipykernel_10977/3684083270.py:5: SettingWithCopyWarning: \n",
      "A value is trying to be set on a copy of a slice from a DataFrame\n",
      "\n",
      "See the caveats in the documentation: https://pandas.pydata.org/pandas-docs/stable/user_guide/indexing.html#returning-a-view-versus-a-copy\n",
      "  df.loc[column] = pd.Series([(x - min_val) / max_val for x in df[column]], index = df.index)\n",
      "/tmp/ipykernel_10977/3684083270.py:5: SettingWithCopyWarning: \n",
      "A value is trying to be set on a copy of a slice from a DataFrame\n",
      "\n",
      "See the caveats in the documentation: https://pandas.pydata.org/pandas-docs/stable/user_guide/indexing.html#returning-a-view-versus-a-copy\n",
      "  df.loc[column] = pd.Series([(x - min_val) / max_val for x in df[column]], index = df.index)\n",
      "/tmp/ipykernel_10977/3684083270.py:5: SettingWithCopyWarning: \n",
      "A value is trying to be set on a copy of a slice from a DataFrame\n",
      "\n",
      "See the caveats in the documentation: https://pandas.pydata.org/pandas-docs/stable/user_guide/indexing.html#returning-a-view-versus-a-copy\n",
      "  df.loc[column] = pd.Series([(x - min_val) / max_val for x in df[column]], index = df.index)\n",
      "/tmp/ipykernel_10977/3684083270.py:5: SettingWithCopyWarning: \n",
      "A value is trying to be set on a copy of a slice from a DataFrame\n",
      "\n",
      "See the caveats in the documentation: https://pandas.pydata.org/pandas-docs/stable/user_guide/indexing.html#returning-a-view-versus-a-copy\n",
      "  df.loc[column] = pd.Series([(x - min_val) / max_val for x in df[column]], index = df.index)\n"
     ]
    },
    {
     "data": {
      "text/plain": "<Figure size 640x480 with 1 Axes>",
      "image/png": "[encoded data removed]"
     },
     "metadata": {},
     "output_type": "display_data"
    }
   ],
   "source": [
    "accuracies = [criteria(test_target, knn_only_age_and_fare(test_features, train_features, train_target, k)) for k in range(1, 40)]\n",
    "plt.figure()\n",
    "plt.xticks(np.arange(1, 40, 1.0))\n",
    "plt.plot(accuracies)\n",
    "plt.show()"
   ]
  },
  {
   "cell_type": "markdown",
   "source": [
    "Относительно слабый рост(или вообще падение) при четных k обусловено, что при равном количестве представителей среди соседей мы выбираем какой-то\n",
    "заранее зафиксированный один вариант, что, очевидно, не всегда работает.\n",
    "Так же ясно, что при увеличении k точность увеличивается, по крайней мере при маленьких k.\n"
   ],
   "metadata": {
    "collapsed": false
   }
  },
  {
   "cell_type": "markdown",
   "metadata": {},
   "source": [
    "#### 6. Выводы"
   ]
  },
  {
   "cell_type": "markdown",
   "metadata": {},
   "source": [
    "Можно сделать вывод о том, что в данной задаче более эффективными являются деревья, так как некоторые признаки очень хорошо предсказывают\n",
    "выживаемость(например пол, класс билета), а KNN, пытаясь учесть только возраст и цену, не очень точен, тк как минимум не учитывает пол,\n",
    "да и судя по графикам возраст имеет значение только в своих крайних точках(дети и старики)."
   ]
  },
  {
   "cell_type": "code",
   "outputs": [],
   "source": [],
   "metadata": {
    "collapsed": false,
    "ExecuteTime": {
     "end_time": "2024-02-17T12:12:33.753003972Z",
     "start_time": "2024-02-17T12:12:33.740574239Z"
    }
   },
   "execution_count": 25
  }
 ],
 "metadata": {
  "colab": {
   "collapsed_sections": [],
   "name": "stats.ipynb",
   "provenance": [],
   "version": "0.3.2"
  },
  "hide_input": false,
  "kernelspec": {
   "display_name": "Python 3 (ipykernel)",
   "language": "python",
   "name": "python3"
  },
  "language_info": {
   "codemirror_mode": {
    "name": "ipython",
    "version": 3
   },
   "file_extension": ".py",
   "mimetype": "text/x-python",
   "name": "python",
   "nbconvert_exporter": "python",
   "pygments_lexer": "ipython3",
   "version": "3.11.6"
  }
 },
 "nbformat": 4,
 "nbformat_minor": 1
}
